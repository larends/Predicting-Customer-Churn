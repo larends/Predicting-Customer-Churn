{
 "cells": [
  {
   "cell_type": "markdown",
   "metadata": {},
   "source": [
    "# Predicting Customer Churn "
   ]
  },
  {
   "cell_type": "markdown",
   "metadata": {},
   "source": [
    "## Business Problem\n",
    "\n",
    "TELCO is a phone and internet company located in California. Their baseline customer churn rate over the last 6 years is 27%. They want to reduce their churn rate by 3% within the next 12-month period. In order to achieve this goal, they need an analysis of what factors contribute to churn as well as an ability to predict which customers are likely to churn."
   ]
  },
  {
   "cell_type": "markdown",
   "metadata": {},
   "source": [
    "## Business Value\n",
    "\n",
    "On average, customers that churn have a $341 lower lifetime value to the company than those that do not churn. With a current customer base of 8,000, a 3\\% reduction in churn would result in approximately an additional \\\\$81,840 in lifetime customer value for the company. "
   ]
  },
  {
   "cell_type": "markdown",
   "metadata": {},
   "source": [
    "## Methodology"
   ]
  },
  {
   "cell_type": "markdown",
   "metadata": {},
   "source": [
    "- Analyze 6 years of customer data to look for factors that contribute to churn.\n",
    "- Build a classification model to predict which customers are likely to churn. \n",
    "- Use the insights to deliver recommendations to reduce churn by 3% over the next 12-month period. \n",
    "- Create a Tableau Dashboard to summarize the results and recommendations.\n",
    "\n",
    "Because there is no inherent risk in false positives (customers that are predicted to churn that do not), recall will be prioritized in order to maximize the number of churned customers identified."
   ]
  },
  {
   "cell_type": "markdown",
   "metadata": {},
   "source": [
    "## Obtain the Data"
   ]
  },
  {
   "cell_type": "code",
   "execution_count": 1,
   "metadata": {
    "ExecuteTime": {
     "end_time": "2021-12-09T18:22:39.655573Z",
     "start_time": "2021-12-09T18:22:38.457312Z"
    }
   },
   "outputs": [],
   "source": [
    "import pandas as pd\n",
    "import numpy as np\n",
    "import matplotlib.pyplot as plt\n",
    "import seaborn as sns\n",
    "\n",
    "from sklearn.model_selection import train_test_split\n",
    "from sklearn.preprocessing import StandardScaler \n",
    "from sklearn.preprocessing import OneHotEncoder\n",
    "from sklearn.pipeline import Pipeline\n",
    "from sklearn.compose import ColumnTransformer\n",
    "from sklearn.dummy import DummyClassifier\n",
    "from sklearn.tree import DecisionTreeClassifier \n",
    "from sklearn.neighbors import KNeighborsClassifier \n",
    "from sklearn.svm import SVC\n",
    "from sklearn.linear_model import LogisticRegression \n",
    "from sklearn.ensemble import (VotingClassifier,\n",
    "                              RandomForestClassifier,\n",
    "                              AdaBoostClassifier,\n",
    "                              GradientBoostingClassifier,\n",
    "                              AdaBoostClassifier,\n",
    "                              BaggingClassifier\n",
    ")\n",
    "from imblearn.pipeline import Pipeline as imbPipeline\n",
    "from sklearn.pipeline import FeatureUnion\n",
    "from sklearn.model_selection import GridSearchCV, RandomizedSearchCV \n",
    "from sklearn.model_selection import cross_val_score, cross_validate \n",
    "from imblearn.over_sampling import SMOTENC\n",
    "from imblearn.under_sampling import ClusterCentroids\n",
    "from sklearn.metrics import (accuracy_score,\n",
    "                             f1_score,\n",
    "                             recall_score,\n",
    "                             precision_score,\n",
    "                             precision_recall_curve,\n",
    "                             make_scorer,\n",
    "                             plot_confusion_matrix,\n",
    "                             plot_roc_curve,\n",
    "                             classification_report,\n",
    "                             roc_curve,\n",
    "                             plot_precision_recall_curve,\n",
    "                             roc_auc_score,\n",
    "                             log_loss\n",
    ")\n",
    "import joblib\n",
    "import xgboost as xgb\n",
    "from xgboost import plot_importance\n",
    "\n",
    "import os\n",
    "\n",
    "%matplotlib inline"
   ]
  },
  {
   "cell_type": "code",
   "execution_count": 2,
   "metadata": {
    "ExecuteTime": {
     "end_time": "2021-12-09T18:22:39.659707Z",
     "start_time": "2021-12-09T18:22:39.657453Z"
    }
   },
   "outputs": [],
   "source": [
    "SEED = 78\n",
    "CLASS_NAMES = ['not churned', 'churned']"
   ]
  },
  {
   "cell_type": "code",
   "execution_count": 3,
   "metadata": {
    "ExecuteTime": {
     "end_time": "2021-12-09T18:22:41.549071Z",
     "start_time": "2021-12-09T18:22:39.662261Z"
    }
   },
   "outputs": [
    {
     "data": {
      "text/html": [
       "<div>\n",
       "<style scoped>\n",
       "    .dataframe tbody tr th:only-of-type {\n",
       "        vertical-align: middle;\n",
       "    }\n",
       "\n",
       "    .dataframe tbody tr th {\n",
       "        vertical-align: top;\n",
       "    }\n",
       "\n",
       "    .dataframe thead th {\n",
       "        text-align: right;\n",
       "    }\n",
       "</style>\n",
       "<table border=\"1\" class=\"dataframe\">\n",
       "  <thead>\n",
       "    <tr style=\"text-align: right;\">\n",
       "      <th></th>\n",
       "      <th>CustomerID</th>\n",
       "      <th>Count</th>\n",
       "      <th>Country</th>\n",
       "      <th>State</th>\n",
       "      <th>City</th>\n",
       "      <th>Zip Code</th>\n",
       "      <th>Lat Long</th>\n",
       "      <th>Latitude</th>\n",
       "      <th>Longitude</th>\n",
       "      <th>Gender</th>\n",
       "      <th>...</th>\n",
       "      <th>Contract</th>\n",
       "      <th>Paperless Billing</th>\n",
       "      <th>Payment Method</th>\n",
       "      <th>Monthly Charges</th>\n",
       "      <th>Total Charges</th>\n",
       "      <th>Churn Label</th>\n",
       "      <th>Churn Value</th>\n",
       "      <th>Churn Score</th>\n",
       "      <th>CLTV</th>\n",
       "      <th>Churn Reason</th>\n",
       "    </tr>\n",
       "  </thead>\n",
       "  <tbody>\n",
       "    <tr>\n",
       "      <th>0</th>\n",
       "      <td>3668-QPYBK</td>\n",
       "      <td>1</td>\n",
       "      <td>United States</td>\n",
       "      <td>California</td>\n",
       "      <td>Los Angeles</td>\n",
       "      <td>90003</td>\n",
       "      <td>33.964131, -118.272783</td>\n",
       "      <td>33.964131</td>\n",
       "      <td>-118.272783</td>\n",
       "      <td>Male</td>\n",
       "      <td>...</td>\n",
       "      <td>Month-to-month</td>\n",
       "      <td>Yes</td>\n",
       "      <td>Mailed check</td>\n",
       "      <td>53.85</td>\n",
       "      <td>108.15</td>\n",
       "      <td>Yes</td>\n",
       "      <td>1</td>\n",
       "      <td>86</td>\n",
       "      <td>3239</td>\n",
       "      <td>Competitor made better offer</td>\n",
       "    </tr>\n",
       "    <tr>\n",
       "      <th>1</th>\n",
       "      <td>9237-HQITU</td>\n",
       "      <td>1</td>\n",
       "      <td>United States</td>\n",
       "      <td>California</td>\n",
       "      <td>Los Angeles</td>\n",
       "      <td>90005</td>\n",
       "      <td>34.059281, -118.30742</td>\n",
       "      <td>34.059281</td>\n",
       "      <td>-118.307420</td>\n",
       "      <td>Female</td>\n",
       "      <td>...</td>\n",
       "      <td>Month-to-month</td>\n",
       "      <td>Yes</td>\n",
       "      <td>Electronic check</td>\n",
       "      <td>70.70</td>\n",
       "      <td>151.65</td>\n",
       "      <td>Yes</td>\n",
       "      <td>1</td>\n",
       "      <td>67</td>\n",
       "      <td>2701</td>\n",
       "      <td>Moved</td>\n",
       "    </tr>\n",
       "    <tr>\n",
       "      <th>2</th>\n",
       "      <td>9305-CDSKC</td>\n",
       "      <td>1</td>\n",
       "      <td>United States</td>\n",
       "      <td>California</td>\n",
       "      <td>Los Angeles</td>\n",
       "      <td>90006</td>\n",
       "      <td>34.048013, -118.293953</td>\n",
       "      <td>34.048013</td>\n",
       "      <td>-118.293953</td>\n",
       "      <td>Female</td>\n",
       "      <td>...</td>\n",
       "      <td>Month-to-month</td>\n",
       "      <td>Yes</td>\n",
       "      <td>Electronic check</td>\n",
       "      <td>99.65</td>\n",
       "      <td>820.5</td>\n",
       "      <td>Yes</td>\n",
       "      <td>1</td>\n",
       "      <td>86</td>\n",
       "      <td>5372</td>\n",
       "      <td>Moved</td>\n",
       "    </tr>\n",
       "    <tr>\n",
       "      <th>3</th>\n",
       "      <td>7892-POOKP</td>\n",
       "      <td>1</td>\n",
       "      <td>United States</td>\n",
       "      <td>California</td>\n",
       "      <td>Los Angeles</td>\n",
       "      <td>90010</td>\n",
       "      <td>34.062125, -118.315709</td>\n",
       "      <td>34.062125</td>\n",
       "      <td>-118.315709</td>\n",
       "      <td>Female</td>\n",
       "      <td>...</td>\n",
       "      <td>Month-to-month</td>\n",
       "      <td>Yes</td>\n",
       "      <td>Electronic check</td>\n",
       "      <td>104.80</td>\n",
       "      <td>3046.05</td>\n",
       "      <td>Yes</td>\n",
       "      <td>1</td>\n",
       "      <td>84</td>\n",
       "      <td>5003</td>\n",
       "      <td>Moved</td>\n",
       "    </tr>\n",
       "    <tr>\n",
       "      <th>4</th>\n",
       "      <td>0280-XJGEX</td>\n",
       "      <td>1</td>\n",
       "      <td>United States</td>\n",
       "      <td>California</td>\n",
       "      <td>Los Angeles</td>\n",
       "      <td>90015</td>\n",
       "      <td>34.039224, -118.266293</td>\n",
       "      <td>34.039224</td>\n",
       "      <td>-118.266293</td>\n",
       "      <td>Male</td>\n",
       "      <td>...</td>\n",
       "      <td>Month-to-month</td>\n",
       "      <td>Yes</td>\n",
       "      <td>Bank transfer (automatic)</td>\n",
       "      <td>103.70</td>\n",
       "      <td>5036.3</td>\n",
       "      <td>Yes</td>\n",
       "      <td>1</td>\n",
       "      <td>89</td>\n",
       "      <td>5340</td>\n",
       "      <td>Competitor had better devices</td>\n",
       "    </tr>\n",
       "  </tbody>\n",
       "</table>\n",
       "<p>5 rows × 33 columns</p>\n",
       "</div>"
      ],
      "text/plain": [
       "   CustomerID  Count        Country       State         City  Zip Code  \\\n",
       "0  3668-QPYBK      1  United States  California  Los Angeles     90003   \n",
       "1  9237-HQITU      1  United States  California  Los Angeles     90005   \n",
       "2  9305-CDSKC      1  United States  California  Los Angeles     90006   \n",
       "3  7892-POOKP      1  United States  California  Los Angeles     90010   \n",
       "4  0280-XJGEX      1  United States  California  Los Angeles     90015   \n",
       "\n",
       "                 Lat Long   Latitude   Longitude  Gender  ...        Contract  \\\n",
       "0  33.964131, -118.272783  33.964131 -118.272783    Male  ...  Month-to-month   \n",
       "1   34.059281, -118.30742  34.059281 -118.307420  Female  ...  Month-to-month   \n",
       "2  34.048013, -118.293953  34.048013 -118.293953  Female  ...  Month-to-month   \n",
       "3  34.062125, -118.315709  34.062125 -118.315709  Female  ...  Month-to-month   \n",
       "4  34.039224, -118.266293  34.039224 -118.266293    Male  ...  Month-to-month   \n",
       "\n",
       "  Paperless Billing             Payment Method  Monthly Charges Total Charges  \\\n",
       "0               Yes               Mailed check            53.85        108.15   \n",
       "1               Yes           Electronic check            70.70        151.65   \n",
       "2               Yes           Electronic check            99.65         820.5   \n",
       "3               Yes           Electronic check           104.80       3046.05   \n",
       "4               Yes  Bank transfer (automatic)           103.70        5036.3   \n",
       "\n",
       "  Churn Label Churn Value Churn Score  CLTV                   Churn Reason  \n",
       "0         Yes           1          86  3239   Competitor made better offer  \n",
       "1         Yes           1          67  2701                          Moved  \n",
       "2         Yes           1          86  5372                          Moved  \n",
       "3         Yes           1          84  5003                          Moved  \n",
       "4         Yes           1          89  5340  Competitor had better devices  \n",
       "\n",
       "[5 rows x 33 columns]"
      ]
     },
     "execution_count": 3,
     "metadata": {},
     "output_type": "execute_result"
    }
   ],
   "source": [
    "df = pd.read_excel('Telco_customer_churn.xlsx')\n",
    "df.head()"
   ]
  },
  {
   "cell_type": "code",
   "execution_count": 4,
   "metadata": {
    "ExecuteTime": {
     "end_time": "2021-12-09T18:22:41.566967Z",
     "start_time": "2021-12-09T18:22:41.551352Z"
    },
    "scrolled": true
   },
   "outputs": [
    {
     "name": "stdout",
     "output_type": "stream",
     "text": [
      "<class 'pandas.core.frame.DataFrame'>\n",
      "RangeIndex: 7043 entries, 0 to 7042\n",
      "Data columns (total 33 columns):\n",
      " #   Column             Non-Null Count  Dtype  \n",
      "---  ------             --------------  -----  \n",
      " 0   CustomerID         7043 non-null   object \n",
      " 1   Count              7043 non-null   int64  \n",
      " 2   Country            7043 non-null   object \n",
      " 3   State              7043 non-null   object \n",
      " 4   City               7043 non-null   object \n",
      " 5   Zip Code           7043 non-null   int64  \n",
      " 6   Lat Long           7043 non-null   object \n",
      " 7   Latitude           7043 non-null   float64\n",
      " 8   Longitude          7043 non-null   float64\n",
      " 9   Gender             7043 non-null   object \n",
      " 10  Senior Citizen     7043 non-null   object \n",
      " 11  Partner            7043 non-null   object \n",
      " 12  Dependents         7043 non-null   object \n",
      " 13  Tenure Months      7043 non-null   int64  \n",
      " 14  Phone Service      7043 non-null   object \n",
      " 15  Multiple Lines     7043 non-null   object \n",
      " 16  Internet Service   7043 non-null   object \n",
      " 17  Online Security    7043 non-null   object \n",
      " 18  Online Backup      7043 non-null   object \n",
      " 19  Device Protection  7043 non-null   object \n",
      " 20  Tech Support       7043 non-null   object \n",
      " 21  Streaming TV       7043 non-null   object \n",
      " 22  Streaming Movies   7043 non-null   object \n",
      " 23  Contract           7043 non-null   object \n",
      " 24  Paperless Billing  7043 non-null   object \n",
      " 25  Payment Method     7043 non-null   object \n",
      " 26  Monthly Charges    7043 non-null   float64\n",
      " 27  Total Charges      7043 non-null   object \n",
      " 28  Churn Label        7043 non-null   object \n",
      " 29  Churn Value        7043 non-null   int64  \n",
      " 30  Churn Score        7043 non-null   int64  \n",
      " 31  CLTV               7043 non-null   int64  \n",
      " 32  Churn Reason       1869 non-null   object \n",
      "dtypes: float64(3), int64(6), object(24)\n",
      "memory usage: 1.8+ MB\n"
     ]
    }
   ],
   "source": [
    "df.info()"
   ]
  },
  {
   "cell_type": "markdown",
   "metadata": {},
   "source": [
    "## Data Exploration and Feature Engineering"
   ]
  },
  {
   "cell_type": "markdown",
   "metadata": {},
   "source": [
    "### Helper Functions"
   ]
  },
  {
   "cell_type": "code",
   "execution_count": 5,
   "metadata": {
    "ExecuteTime": {
     "end_time": "2021-12-09T18:22:41.571994Z",
     "start_time": "2021-12-09T18:22:41.568454Z"
    }
   },
   "outputs": [],
   "source": [
    "def churn_by_group(df, col_to_group):\n",
    "    \"\"\"Takes in the dataframe and the column to group by. Returns a new\n",
    "    dataframe with the churn rate per category for the indicated column.\"\"\"\n",
    "    \n",
    "    grouped_df = df.groupby(col_to_group)[['Count','Churn Value']].sum()\n",
    "    grouped_df['churn_rate'] = round(\n",
    "        grouped_df['Churn Value']/grouped_df['Count'],\n",
    "        2\n",
    "    )\n",
    "    grouped_df.sort_values(\n",
    "        'churn_rate', \n",
    "        inplace=True, \n",
    "        ascending=False\n",
    "    )\n",
    "    return grouped_df"
   ]
  },
  {
   "cell_type": "code",
   "execution_count": 6,
   "metadata": {
    "ExecuteTime": {
     "end_time": "2021-12-09T18:22:41.580296Z",
     "start_time": "2021-12-09T18:22:41.573959Z"
    }
   },
   "outputs": [
    {
     "data": {
      "text/plain": [
       "No     0.73463\n",
       "Yes    0.26537\n",
       "Name: Churn Label, dtype: float64"
      ]
     },
     "execution_count": 6,
     "metadata": {},
     "output_type": "execute_result"
    }
   ],
   "source": [
    "#Examine the target churn label column\n",
    "df['Churn Label'].value_counts(normalize=True)\n",
    "\n",
    "#27% of the customers churned during this interval; this is an\n",
    "#unbalanced class problem"
   ]
  },
  {
   "cell_type": "code",
   "execution_count": 7,
   "metadata": {
    "ExecuteTime": {
     "end_time": "2021-12-09T18:22:41.588970Z",
     "start_time": "2021-12-09T18:22:41.582495Z"
    }
   },
   "outputs": [
    {
     "data": {
      "text/plain": [
       "0    0.73463\n",
       "1    0.26537\n",
       "Name: Churn Value, dtype: float64"
      ]
     },
     "execution_count": 7,
     "metadata": {},
     "output_type": "execute_result"
    }
   ],
   "source": [
    "#Examine the target churn value column\n",
    "df['Churn Value'].value_counts(normalize=True)"
   ]
  },
  {
   "cell_type": "code",
   "execution_count": 8,
   "metadata": {
    "ExecuteTime": {
     "end_time": "2021-12-09T18:22:41.600731Z",
     "start_time": "2021-12-09T18:22:41.593439Z"
    },
    "scrolled": true
   },
   "outputs": [
    {
     "data": {
      "text/plain": [
       "count    7043.000000\n",
       "mean     4400.295755\n",
       "std      1183.057152\n",
       "min      2003.000000\n",
       "25%      3469.000000\n",
       "50%      4527.000000\n",
       "75%      5380.500000\n",
       "max      6500.000000\n",
       "Name: CLTV, dtype: float64"
      ]
     },
     "execution_count": 8,
     "metadata": {},
     "output_type": "execute_result"
    }
   ],
   "source": [
    "#Examine the CLTV column\n",
    "df['CLTV'].describe()"
   ]
  },
  {
   "cell_type": "code",
   "execution_count": 9,
   "metadata": {
    "ExecuteTime": {
     "end_time": "2021-12-09T18:22:41.609897Z",
     "start_time": "2021-12-09T18:22:41.603606Z"
    }
   },
   "outputs": [
    {
     "data": {
      "text/plain": [
       "Churn Label\n",
       "No     4490.921337\n",
       "Yes    4149.414660\n",
       "Name: CLTV, dtype: float64"
      ]
     },
     "execution_count": 9,
     "metadata": {},
     "output_type": "execute_result"
    }
   ],
   "source": [
    "#Examine the difference in lifetime value based on churn status\n",
    "df.groupby('Churn Label')['CLTV'].mean()"
   ]
  },
  {
   "cell_type": "code",
   "execution_count": 10,
   "metadata": {
    "ExecuteTime": {
     "end_time": "2021-12-09T18:22:41.616058Z",
     "start_time": "2021-12-09T18:22:41.611376Z"
    },
    "scrolled": false
   },
   "outputs": [
    {
     "data": {
      "text/plain": [
       "Attitude of support person                   192\n",
       "Competitor offered higher download speeds    189\n",
       "Competitor offered more data                 162\n",
       "Don't know                                   154\n",
       "Competitor made better offer                 140\n",
       "Attitude of service provider                 135\n",
       "Competitor had better devices                130\n",
       "Network reliability                          103\n",
       "Product dissatisfaction                      102\n",
       "Price too high                                98\n",
       "Service dissatisfaction                       89\n",
       "Lack of self-service on Website               88\n",
       "Extra data charges                            57\n",
       "Moved                                         53\n",
       "Long distance charges                         44\n",
       "Limited range of services                     44\n",
       "Lack of affordable download/upload speed      44\n",
       "Poor expertise of phone support               20\n",
       "Poor expertise of online support              19\n",
       "Deceased                                       6\n",
       "Name: Churn Reason, dtype: int64"
      ]
     },
     "execution_count": 10,
     "metadata": {},
     "output_type": "execute_result"
    }
   ],
   "source": [
    "#Examine the target churn reason column\n",
    "df['Churn Reason'].value_counts()"
   ]
  },
  {
   "cell_type": "code",
   "execution_count": 11,
   "metadata": {
    "ExecuteTime": {
     "end_time": "2021-12-09T18:22:41.624041Z",
     "start_time": "2021-12-09T18:22:41.618215Z"
    },
    "scrolled": false
   },
   "outputs": [
    {
     "data": {
      "text/plain": [
       "92139    0.000710\n",
       "91306    0.000710\n",
       "90602    0.000710\n",
       "90502    0.000710\n",
       "90402    0.000710\n",
       "           ...   \n",
       "92335    0.000568\n",
       "95385    0.000568\n",
       "92339    0.000568\n",
       "92347    0.000568\n",
       "95531    0.000568\n",
       "Name: Zip Code, Length: 1652, dtype: float64"
      ]
     },
     "execution_count": 11,
     "metadata": {},
     "output_type": "execute_result"
    }
   ],
   "source": [
    "#Examine the zip code column\n",
    "df['Zip Code'].value_counts(normalize=True)"
   ]
  },
  {
   "cell_type": "code",
   "execution_count": 12,
   "metadata": {
    "ExecuteTime": {
     "end_time": "2021-12-09T18:22:41.639194Z",
     "start_time": "2021-12-09T18:22:41.625708Z"
    },
    "scrolled": true
   },
   "outputs": [
    {
     "data": {
      "text/html": [
       "<div>\n",
       "<style scoped>\n",
       "    .dataframe tbody tr th:only-of-type {\n",
       "        vertical-align: middle;\n",
       "    }\n",
       "\n",
       "    .dataframe tbody tr th {\n",
       "        vertical-align: top;\n",
       "    }\n",
       "\n",
       "    .dataframe thead th {\n",
       "        text-align: right;\n",
       "    }\n",
       "</style>\n",
       "<table border=\"1\" class=\"dataframe\">\n",
       "  <thead>\n",
       "    <tr style=\"text-align: right;\">\n",
       "      <th></th>\n",
       "      <th>Count</th>\n",
       "      <th>Churn Value</th>\n",
       "      <th>churn_rate</th>\n",
       "    </tr>\n",
       "    <tr>\n",
       "      <th>Zip Code</th>\n",
       "      <th></th>\n",
       "      <th></th>\n",
       "      <th></th>\n",
       "    </tr>\n",
       "  </thead>\n",
       "  <tbody>\n",
       "    <tr>\n",
       "      <th>96161</th>\n",
       "      <td>4</td>\n",
       "      <td>4</td>\n",
       "      <td>1.0</td>\n",
       "    </tr>\n",
       "    <tr>\n",
       "      <th>95567</th>\n",
       "      <td>4</td>\n",
       "      <td>4</td>\n",
       "      <td>1.0</td>\n",
       "    </tr>\n",
       "    <tr>\n",
       "      <th>93528</th>\n",
       "      <td>4</td>\n",
       "      <td>4</td>\n",
       "      <td>1.0</td>\n",
       "    </tr>\n",
       "    <tr>\n",
       "      <th>93711</th>\n",
       "      <td>4</td>\n",
       "      <td>4</td>\n",
       "      <td>1.0</td>\n",
       "    </tr>\n",
       "    <tr>\n",
       "      <th>94014</th>\n",
       "      <td>4</td>\n",
       "      <td>4</td>\n",
       "      <td>1.0</td>\n",
       "    </tr>\n",
       "    <tr>\n",
       "      <th>...</th>\n",
       "      <td>...</td>\n",
       "      <td>...</td>\n",
       "      <td>...</td>\n",
       "    </tr>\n",
       "    <tr>\n",
       "      <th>94922</th>\n",
       "      <td>4</td>\n",
       "      <td>0</td>\n",
       "      <td>0.0</td>\n",
       "    </tr>\n",
       "    <tr>\n",
       "      <th>94929</th>\n",
       "      <td>4</td>\n",
       "      <td>0</td>\n",
       "      <td>0.0</td>\n",
       "    </tr>\n",
       "    <tr>\n",
       "      <th>94930</th>\n",
       "      <td>4</td>\n",
       "      <td>0</td>\n",
       "      <td>0.0</td>\n",
       "    </tr>\n",
       "    <tr>\n",
       "      <th>92352</th>\n",
       "      <td>4</td>\n",
       "      <td>0</td>\n",
       "      <td>0.0</td>\n",
       "    </tr>\n",
       "    <tr>\n",
       "      <th>95012</th>\n",
       "      <td>4</td>\n",
       "      <td>0</td>\n",
       "      <td>0.0</td>\n",
       "    </tr>\n",
       "  </tbody>\n",
       "</table>\n",
       "<p>1652 rows × 3 columns</p>\n",
       "</div>"
      ],
      "text/plain": [
       "          Count  Churn Value  churn_rate\n",
       "Zip Code                                \n",
       "96161         4            4         1.0\n",
       "95567         4            4         1.0\n",
       "93528         4            4         1.0\n",
       "93711         4            4         1.0\n",
       "94014         4            4         1.0\n",
       "...         ...          ...         ...\n",
       "94922         4            0         0.0\n",
       "94929         4            0         0.0\n",
       "94930         4            0         0.0\n",
       "92352         4            0         0.0\n",
       "95012         4            0         0.0\n",
       "\n",
       "[1652 rows x 3 columns]"
      ]
     },
     "execution_count": 12,
     "metadata": {},
     "output_type": "execute_result"
    }
   ],
   "source": [
    "#find the zip codes with the highest churn rates\n",
    "churn_rate_by_zip = churn_by_group(df, 'Zip Code')\n",
    "churn_rate_by_zip"
   ]
  },
  {
   "cell_type": "code",
   "execution_count": 13,
   "metadata": {
    "ExecuteTime": {
     "end_time": "2021-12-09T18:22:41.995687Z",
     "start_time": "2021-12-09T18:22:41.641480Z"
    }
   },
   "outputs": [],
   "source": [
    "churn_rate_by_zip.to_excel('churn_rate_by_zip.xlsx')"
   ]
  },
  {
   "cell_type": "code",
   "execution_count": 14,
   "metadata": {
    "ExecuteTime": {
     "end_time": "2021-12-09T18:22:42.005462Z",
     "start_time": "2021-12-09T18:22:41.997470Z"
    },
    "scrolled": false
   },
   "outputs": [
    {
     "data": {
      "text/plain": [
       "Los Angeles        0.043305\n",
       "San Diego          0.021298\n",
       "San Jose           0.015902\n",
       "Sacramento         0.015334\n",
       "San Francisco      0.014766\n",
       "                     ...   \n",
       "Laton              0.000568\n",
       "Mountain Center    0.000568\n",
       "New Cuyama         0.000568\n",
       "Orinda             0.000568\n",
       "Grover Beach       0.000568\n",
       "Name: City, Length: 1129, dtype: float64"
      ]
     },
     "execution_count": 14,
     "metadata": {},
     "output_type": "execute_result"
    }
   ],
   "source": [
    "#Examine the city column\n",
    "df['City'].value_counts(normalize=True)"
   ]
  },
  {
   "cell_type": "code",
   "execution_count": 15,
   "metadata": {
    "ExecuteTime": {
     "end_time": "2021-12-09T18:22:42.020612Z",
     "start_time": "2021-12-09T18:22:42.007445Z"
    }
   },
   "outputs": [
    {
     "data": {
      "text/html": [
       "<div>\n",
       "<style scoped>\n",
       "    .dataframe tbody tr th:only-of-type {\n",
       "        vertical-align: middle;\n",
       "    }\n",
       "\n",
       "    .dataframe tbody tr th {\n",
       "        vertical-align: top;\n",
       "    }\n",
       "\n",
       "    .dataframe thead th {\n",
       "        text-align: right;\n",
       "    }\n",
       "</style>\n",
       "<table border=\"1\" class=\"dataframe\">\n",
       "  <thead>\n",
       "    <tr style=\"text-align: right;\">\n",
       "      <th></th>\n",
       "      <th>Count</th>\n",
       "      <th>Churn Value</th>\n",
       "      <th>churn_rate</th>\n",
       "    </tr>\n",
       "    <tr>\n",
       "      <th>City</th>\n",
       "      <th></th>\n",
       "      <th></th>\n",
       "      <th></th>\n",
       "    </tr>\n",
       "  </thead>\n",
       "  <tbody>\n",
       "    <tr>\n",
       "      <th>Fort Jones</th>\n",
       "      <td>4</td>\n",
       "      <td>4</td>\n",
       "      <td>1.00</td>\n",
       "    </tr>\n",
       "    <tr>\n",
       "      <th>Eldridge</th>\n",
       "      <td>4</td>\n",
       "      <td>4</td>\n",
       "      <td>1.00</td>\n",
       "    </tr>\n",
       "    <tr>\n",
       "      <th>Maricopa</th>\n",
       "      <td>4</td>\n",
       "      <td>4</td>\n",
       "      <td>1.00</td>\n",
       "    </tr>\n",
       "    <tr>\n",
       "      <th>Boulder Creek</th>\n",
       "      <td>4</td>\n",
       "      <td>4</td>\n",
       "      <td>1.00</td>\n",
       "    </tr>\n",
       "    <tr>\n",
       "      <th>Riverbank</th>\n",
       "      <td>4</td>\n",
       "      <td>4</td>\n",
       "      <td>1.00</td>\n",
       "    </tr>\n",
       "    <tr>\n",
       "      <th>Twain</th>\n",
       "      <td>4</td>\n",
       "      <td>4</td>\n",
       "      <td>1.00</td>\n",
       "    </tr>\n",
       "    <tr>\n",
       "      <th>Johannesburg</th>\n",
       "      <td>4</td>\n",
       "      <td>4</td>\n",
       "      <td>1.00</td>\n",
       "    </tr>\n",
       "    <tr>\n",
       "      <th>Smith River</th>\n",
       "      <td>4</td>\n",
       "      <td>4</td>\n",
       "      <td>1.00</td>\n",
       "    </tr>\n",
       "    <tr>\n",
       "      <th>Tipton</th>\n",
       "      <td>4</td>\n",
       "      <td>4</td>\n",
       "      <td>1.00</td>\n",
       "    </tr>\n",
       "    <tr>\n",
       "      <th>Wrightwood</th>\n",
       "      <td>4</td>\n",
       "      <td>4</td>\n",
       "      <td>1.00</td>\n",
       "    </tr>\n",
       "    <tr>\n",
       "      <th>South Lake Tahoe</th>\n",
       "      <td>4</td>\n",
       "      <td>4</td>\n",
       "      <td>1.00</td>\n",
       "    </tr>\n",
       "    <tr>\n",
       "      <th>Truckee</th>\n",
       "      <td>4</td>\n",
       "      <td>4</td>\n",
       "      <td>1.00</td>\n",
       "    </tr>\n",
       "    <tr>\n",
       "      <th>Indian Wells</th>\n",
       "      <td>5</td>\n",
       "      <td>4</td>\n",
       "      <td>0.80</td>\n",
       "    </tr>\n",
       "    <tr>\n",
       "      <th>Panorama City</th>\n",
       "      <td>5</td>\n",
       "      <td>4</td>\n",
       "      <td>0.80</td>\n",
       "    </tr>\n",
       "    <tr>\n",
       "      <th>Seeley</th>\n",
       "      <td>5</td>\n",
       "      <td>4</td>\n",
       "      <td>0.80</td>\n",
       "    </tr>\n",
       "    <tr>\n",
       "      <th>San Dimas</th>\n",
       "      <td>5</td>\n",
       "      <td>4</td>\n",
       "      <td>0.80</td>\n",
       "    </tr>\n",
       "    <tr>\n",
       "      <th>Byron</th>\n",
       "      <td>4</td>\n",
       "      <td>3</td>\n",
       "      <td>0.75</td>\n",
       "    </tr>\n",
       "    <tr>\n",
       "      <th>Rio Dell</th>\n",
       "      <td>4</td>\n",
       "      <td>3</td>\n",
       "      <td>0.75</td>\n",
       "    </tr>\n",
       "    <tr>\n",
       "      <th>Running Springs</th>\n",
       "      <td>4</td>\n",
       "      <td>3</td>\n",
       "      <td>0.75</td>\n",
       "    </tr>\n",
       "    <tr>\n",
       "      <th>Quincy</th>\n",
       "      <td>4</td>\n",
       "      <td>3</td>\n",
       "      <td>0.75</td>\n",
       "    </tr>\n",
       "  </tbody>\n",
       "</table>\n",
       "</div>"
      ],
      "text/plain": [
       "                  Count  Churn Value  churn_rate\n",
       "City                                            \n",
       "Fort Jones            4            4        1.00\n",
       "Eldridge              4            4        1.00\n",
       "Maricopa              4            4        1.00\n",
       "Boulder Creek         4            4        1.00\n",
       "Riverbank             4            4        1.00\n",
       "Twain                 4            4        1.00\n",
       "Johannesburg          4            4        1.00\n",
       "Smith River           4            4        1.00\n",
       "Tipton                4            4        1.00\n",
       "Wrightwood            4            4        1.00\n",
       "South Lake Tahoe      4            4        1.00\n",
       "Truckee               4            4        1.00\n",
       "Indian Wells          5            4        0.80\n",
       "Panorama City         5            4        0.80\n",
       "Seeley                5            4        0.80\n",
       "San Dimas             5            4        0.80\n",
       "Byron                 4            3        0.75\n",
       "Rio Dell              4            3        0.75\n",
       "Running Springs       4            3        0.75\n",
       "Quincy                4            3        0.75"
      ]
     },
     "execution_count": 15,
     "metadata": {},
     "output_type": "execute_result"
    }
   ],
   "source": [
    "#find the cities with the highest churn rates\n",
    "churn_rate_by_city = churn_by_group(df, 'City')\n",
    "churn_rate_by_city[:20]"
   ]
  },
  {
   "cell_type": "code",
   "execution_count": 16,
   "metadata": {
    "ExecuteTime": {
     "end_time": "2021-12-09T18:22:42.028515Z",
     "start_time": "2021-12-09T18:22:42.022724Z"
    }
   },
   "outputs": [
    {
     "data": {
      "text/plain": [
       "Male      0.504756\n",
       "Female    0.495244\n",
       "Name: Gender, dtype: float64"
      ]
     },
     "execution_count": 16,
     "metadata": {},
     "output_type": "execute_result"
    }
   ],
   "source": [
    "#Examine the gender column\n",
    "df['Gender'].value_counts(normalize=True)\n",
    "\n",
    "#Male and female customers are evenly split"
   ]
  },
  {
   "cell_type": "code",
   "execution_count": 17,
   "metadata": {
    "ExecuteTime": {
     "end_time": "2021-12-09T18:22:42.036622Z",
     "start_time": "2021-12-09T18:22:42.030033Z"
    }
   },
   "outputs": [],
   "source": [
    "#Convert gender to a binary where 0=female and 1=male\n",
    "df['Gender'].replace(to_replace={'Female':0, 'Male':1}, inplace=True)"
   ]
  },
  {
   "cell_type": "code",
   "execution_count": 18,
   "metadata": {
    "ExecuteTime": {
     "end_time": "2021-12-09T18:22:42.045657Z",
     "start_time": "2021-12-09T18:22:42.039304Z"
    }
   },
   "outputs": [
    {
     "data": {
      "text/plain": [
       "No     0.837853\n",
       "Yes    0.162147\n",
       "Name: Senior Citizen, dtype: float64"
      ]
     },
     "execution_count": 18,
     "metadata": {},
     "output_type": "execute_result"
    }
   ],
   "source": [
    "#Examine the senior citizen column\n",
    "df['Senior Citizen'].value_counts(normalize=True)\n",
    "\n",
    "#16% are senior"
   ]
  },
  {
   "cell_type": "code",
   "execution_count": 19,
   "metadata": {
    "ExecuteTime": {
     "end_time": "2021-12-09T18:22:42.054445Z",
     "start_time": "2021-12-09T18:22:42.047637Z"
    }
   },
   "outputs": [],
   "source": [
    "#Convert gender to a binary where 0=no and 1=1\n",
    "df['Senior Citizen'].replace(to_replace={'No':0, 'Yes':1}, inplace=True)"
   ]
  },
  {
   "cell_type": "code",
   "execution_count": 20,
   "metadata": {
    "ExecuteTime": {
     "end_time": "2021-12-09T18:22:42.060985Z",
     "start_time": "2021-12-09T18:22:42.055926Z"
    }
   },
   "outputs": [
    {
     "data": {
      "text/plain": [
       "No     0.516967\n",
       "Yes    0.483033\n",
       "Name: Partner, dtype: float64"
      ]
     },
     "execution_count": 20,
     "metadata": {},
     "output_type": "execute_result"
    }
   ],
   "source": [
    "#Examine the partner column\n",
    "df['Partner'].value_counts(normalize=True)\n",
    "\n",
    "#Approximately half of the customers are in a relationship"
   ]
  },
  {
   "cell_type": "code",
   "execution_count": 21,
   "metadata": {
    "ExecuteTime": {
     "end_time": "2021-12-09T18:22:42.068606Z",
     "start_time": "2021-12-09T18:22:42.062761Z"
    }
   },
   "outputs": [],
   "source": [
    "#Convert partner to a binary where 0=single and 1=partnered\n",
    "df['Partner'].replace(to_replace={'No':0, 'Yes':1}, inplace=True)"
   ]
  },
  {
   "cell_type": "code",
   "execution_count": 22,
   "metadata": {
    "ExecuteTime": {
     "end_time": "2021-12-09T18:22:42.075564Z",
     "start_time": "2021-12-09T18:22:42.070340Z"
    }
   },
   "outputs": [
    {
     "data": {
      "text/plain": [
       "No     0.76899\n",
       "Yes    0.23101\n",
       "Name: Dependents, dtype: float64"
      ]
     },
     "execution_count": 22,
     "metadata": {},
     "output_type": "execute_result"
    }
   ],
   "source": [
    "#Examine the dependents column\n",
    "df['Dependents'].value_counts(normalize=True)\n",
    "\n",
    "#Approximately 30% of the customers have children"
   ]
  },
  {
   "cell_type": "code",
   "execution_count": 23,
   "metadata": {
    "ExecuteTime": {
     "end_time": "2021-12-09T18:22:42.087553Z",
     "start_time": "2021-12-09T18:22:42.081898Z"
    }
   },
   "outputs": [],
   "source": [
    "#Convert dependents to a binary where 0=no children and 1=children\n",
    "df['Dependents'].replace(to_replace={'No':0, 'Yes':1}, inplace=True)"
   ]
  },
  {
   "cell_type": "code",
   "execution_count": 24,
   "metadata": {
    "ExecuteTime": {
     "end_time": "2021-12-09T18:22:42.099074Z",
     "start_time": "2021-12-09T18:22:42.092302Z"
    }
   },
   "outputs": [
    {
     "data": {
      "text/plain": [
       "count    7043.000000\n",
       "mean       32.371149\n",
       "std        24.559481\n",
       "min         0.000000\n",
       "25%         9.000000\n",
       "50%        29.000000\n",
       "75%        55.000000\n",
       "max        72.000000\n",
       "Name: Tenure Months, dtype: float64"
      ]
     },
     "execution_count": 24,
     "metadata": {},
     "output_type": "execute_result"
    }
   ],
   "source": [
    "#Examine the tenure column\n",
    "df['Tenure Months'].describe()"
   ]
  },
  {
   "cell_type": "code",
   "execution_count": 25,
   "metadata": {
    "ExecuteTime": {
     "end_time": "2021-12-09T18:22:42.248366Z",
     "start_time": "2021-12-09T18:22:42.101082Z"
    },
    "scrolled": true
   },
   "outputs": [
    {
     "data": {
      "image/png": "[encoded data removed]",
      "text/plain": [
       "<Figure size 432x288 with 1 Axes>"
      ]
     },
     "metadata": {
      "needs_background": "light"
     },
     "output_type": "display_data"
    }
   ],
   "source": [
    "df['Tenure Months'].hist(bins=30);"
   ]
  },
  {
   "cell_type": "code",
   "execution_count": 26,
   "metadata": {
    "ExecuteTime": {
     "end_time": "2021-12-09T18:22:42.256035Z",
     "start_time": "2021-12-09T18:22:42.250342Z"
    },
    "scrolled": false
   },
   "outputs": [
    {
     "data": {
      "text/plain": [
       "1     613\n",
       "72    362\n",
       "2     238\n",
       "3     200\n",
       "4     176\n",
       "Name: Tenure Months, dtype: int64"
      ]
     },
     "execution_count": 26,
     "metadata": {},
     "output_type": "execute_result"
    }
   ],
   "source": [
    "df['Tenure Months'].value_counts()[:5]"
   ]
  },
  {
   "cell_type": "code",
   "execution_count": 27,
   "metadata": {
    "ExecuteTime": {
     "end_time": "2021-12-09T18:22:42.449142Z",
     "start_time": "2021-12-09T18:22:42.257443Z"
    },
    "scrolled": true
   },
   "outputs": [
    {
     "data": {
      "image/png": "[encoded data removed]",
      "text/plain": [
       "<Figure size 432x288 with 1 Axes>"
      ]
     },
     "metadata": {
      "needs_background": "light"
     },
     "output_type": "display_data"
    }
   ],
   "source": [
    "sns.histplot(data=df, x='Tenure Months', hue='Churn Value');"
   ]
  },
  {
   "cell_type": "markdown",
   "metadata": {},
   "source": [
    "The distribution is bimodal, with the most common values at 1 month and 72 months. This suggests that customers either leave within the first month or stay for the long term. From a business perspective, it may make sense to investigate if the factors that lead to churn differ for the group that leaves right away versus the group that leaves after a time."
   ]
  },
  {
   "cell_type": "code",
   "execution_count": 28,
   "metadata": {
    "ExecuteTime": {
     "end_time": "2021-12-09T18:22:42.456788Z",
     "start_time": "2021-12-09T18:22:42.451240Z"
    }
   },
   "outputs": [],
   "source": [
    "#Create a binary column for tenure, more_than_year\n",
    "def more_than_year(months):\n",
    "    if months < 12:\n",
    "        return 0\n",
    "    else:\n",
    "        return 1\n",
    "\n",
    "df['more_than_year'] = df['Tenure Months'].apply(more_than_year)"
   ]
  },
  {
   "cell_type": "code",
   "execution_count": 29,
   "metadata": {
    "ExecuteTime": {
     "end_time": "2021-12-09T18:22:42.468664Z",
     "start_time": "2021-12-09T18:22:42.458848Z"
    }
   },
   "outputs": [
    {
     "data": {
      "text/html": [
       "<div>\n",
       "<style scoped>\n",
       "    .dataframe tbody tr th:only-of-type {\n",
       "        vertical-align: middle;\n",
       "    }\n",
       "\n",
       "    .dataframe tbody tr th {\n",
       "        vertical-align: top;\n",
       "    }\n",
       "\n",
       "    .dataframe thead th {\n",
       "        text-align: right;\n",
       "    }\n",
       "</style>\n",
       "<table border=\"1\" class=\"dataframe\">\n",
       "  <thead>\n",
       "    <tr style=\"text-align: right;\">\n",
       "      <th></th>\n",
       "      <th>Count</th>\n",
       "      <th>Churn Value</th>\n",
       "      <th>churn_rate</th>\n",
       "    </tr>\n",
       "    <tr>\n",
       "      <th>more_than_year</th>\n",
       "      <th></th>\n",
       "      <th></th>\n",
       "      <th></th>\n",
       "    </tr>\n",
       "  </thead>\n",
       "  <tbody>\n",
       "    <tr>\n",
       "      <th>0</th>\n",
       "      <td>2069</td>\n",
       "      <td>999</td>\n",
       "      <td>0.48</td>\n",
       "    </tr>\n",
       "    <tr>\n",
       "      <th>1</th>\n",
       "      <td>4974</td>\n",
       "      <td>870</td>\n",
       "      <td>0.17</td>\n",
       "    </tr>\n",
       "  </tbody>\n",
       "</table>\n",
       "</div>"
      ],
      "text/plain": [
       "                Count  Churn Value  churn_rate\n",
       "more_than_year                                \n",
       "0                2069          999        0.48\n",
       "1                4974          870        0.17"
      ]
     },
     "execution_count": 29,
     "metadata": {},
     "output_type": "execute_result"
    }
   ],
   "source": [
    "#Examine churn rate based on tenure\n",
    "churn_rate_by_tenure = churn_by_group(df, 'more_than_year')\n",
    "churn_rate_by_tenure[:20]"
   ]
  },
  {
   "cell_type": "code",
   "execution_count": 30,
   "metadata": {
    "ExecuteTime": {
     "end_time": "2021-12-09T18:22:42.475441Z",
     "start_time": "2021-12-09T18:22:42.470048Z"
    }
   },
   "outputs": [
    {
     "data": {
      "text/plain": [
       "Yes    0.903166\n",
       "No     0.096834\n",
       "Name: Phone Service, dtype: float64"
      ]
     },
     "execution_count": 30,
     "metadata": {},
     "output_type": "execute_result"
    }
   ],
   "source": [
    "#Examine the phone service column\n",
    "df['Phone Service'].value_counts(normalize=True)\n",
    "\n",
    "#Approximately 90% of the customers have phone service"
   ]
  },
  {
   "cell_type": "code",
   "execution_count": 31,
   "metadata": {
    "ExecuteTime": {
     "end_time": "2021-12-09T18:22:42.482497Z",
     "start_time": "2021-12-09T18:22:42.477004Z"
    }
   },
   "outputs": [],
   "source": [
    "#Convert phone service to a binary where 0=no and 1=yes\n",
    "df['Phone Service'].replace(to_replace={'No':0, 'Yes':1}, inplace=True)"
   ]
  },
  {
   "cell_type": "code",
   "execution_count": 32,
   "metadata": {
    "ExecuteTime": {
     "end_time": "2021-12-09T18:22:42.489338Z",
     "start_time": "2021-12-09T18:22:42.484452Z"
    }
   },
   "outputs": [
    {
     "data": {
      "text/plain": [
       "No                  0.481329\n",
       "Yes                 0.421837\n",
       "No phone service    0.096834\n",
       "Name: Multiple Lines, dtype: float64"
      ]
     },
     "execution_count": 32,
     "metadata": {},
     "output_type": "execute_result"
    }
   ],
   "source": [
    "#Examine the multiple lines column\n",
    "df['Multiple Lines'].value_counts(normalize=True)\n",
    "\n",
    "#Approximately 47% of the customers that have phone serive have multiple lines"
   ]
  },
  {
   "cell_type": "code",
   "execution_count": 33,
   "metadata": {
    "ExecuteTime": {
     "end_time": "2021-12-09T18:22:42.497897Z",
     "start_time": "2021-12-09T18:22:42.491028Z"
    }
   },
   "outputs": [],
   "source": [
    "#Convert multiple lines to a binary where 0=no and 1=yes\n",
    "df['Multiple Lines'].replace(\n",
    "    to_replace={'No':0, 'Yes':1, 'No phone service':0}, \n",
    "    inplace=True\n",
    ")"
   ]
  },
  {
   "cell_type": "code",
   "execution_count": 34,
   "metadata": {
    "ExecuteTime": {
     "end_time": "2021-12-09T18:22:42.504364Z",
     "start_time": "2021-12-09T18:22:42.499595Z"
    }
   },
   "outputs": [
    {
     "data": {
      "text/plain": [
       "Fiber optic    0.439585\n",
       "DSL            0.343746\n",
       "No             0.216669\n",
       "Name: Internet Service, dtype: float64"
      ]
     },
     "execution_count": 34,
     "metadata": {},
     "output_type": "execute_result"
    }
   ],
   "source": [
    "#Examine the internet service column\n",
    "df['Internet Service'].value_counts(normalize=True)\n",
    "\n",
    "#The customers are split between fiber optic, DSL and no internet"
   ]
  },
  {
   "cell_type": "code",
   "execution_count": 35,
   "metadata": {
    "ExecuteTime": {
     "end_time": "2021-12-09T18:22:42.512201Z",
     "start_time": "2021-12-09T18:22:42.506108Z"
    }
   },
   "outputs": [],
   "source": [
    "#Create a new column, internet, with 0 for No and 1 for Yes\n",
    "df['internet'] = df['Internet Service']\n",
    "df['internet'].replace(\n",
    "    to_replace={'No':0, 'Fiber optic':1, 'DSL':1}, \n",
    "    inplace=True\n",
    ")"
   ]
  },
  {
   "cell_type": "code",
   "execution_count": 36,
   "metadata": {
    "ExecuteTime": {
     "end_time": "2021-12-09T18:22:42.522260Z",
     "start_time": "2021-12-09T18:22:42.513408Z"
    }
   },
   "outputs": [
    {
     "data": {
      "text/html": [
       "<div>\n",
       "<style scoped>\n",
       "    .dataframe tbody tr th:only-of-type {\n",
       "        vertical-align: middle;\n",
       "    }\n",
       "\n",
       "    .dataframe tbody tr th {\n",
       "        vertical-align: top;\n",
       "    }\n",
       "\n",
       "    .dataframe thead th {\n",
       "        text-align: right;\n",
       "    }\n",
       "</style>\n",
       "<table border=\"1\" class=\"dataframe\">\n",
       "  <thead>\n",
       "    <tr style=\"text-align: right;\">\n",
       "      <th></th>\n",
       "      <th>Count</th>\n",
       "      <th>Churn Value</th>\n",
       "      <th>churn_rate</th>\n",
       "    </tr>\n",
       "    <tr>\n",
       "      <th>internet</th>\n",
       "      <th></th>\n",
       "      <th></th>\n",
       "      <th></th>\n",
       "    </tr>\n",
       "  </thead>\n",
       "  <tbody>\n",
       "    <tr>\n",
       "      <th>1</th>\n",
       "      <td>5517</td>\n",
       "      <td>1756</td>\n",
       "      <td>0.32</td>\n",
       "    </tr>\n",
       "    <tr>\n",
       "      <th>0</th>\n",
       "      <td>1526</td>\n",
       "      <td>113</td>\n",
       "      <td>0.07</td>\n",
       "    </tr>\n",
       "  </tbody>\n",
       "</table>\n",
       "</div>"
      ],
      "text/plain": [
       "          Count  Churn Value  churn_rate\n",
       "internet                                \n",
       "1          5517         1756        0.32\n",
       "0          1526          113        0.07"
      ]
     },
     "execution_count": 36,
     "metadata": {},
     "output_type": "execute_result"
    }
   ],
   "source": [
    "churn_by_group(df, 'internet')"
   ]
  },
  {
   "cell_type": "code",
   "execution_count": 37,
   "metadata": {
    "ExecuteTime": {
     "end_time": "2021-12-09T18:22:42.529492Z",
     "start_time": "2021-12-09T18:22:42.523642Z"
    }
   },
   "outputs": [],
   "source": [
    "#Create a new column, fiber, with 0 for No and 1 for Yes\n",
    "df['fiber'] = df['Internet Service']\n",
    "df['fiber'].replace(\n",
    "    to_replace={'No':0, 'Fiber optic':1, 'DSL':0}, \n",
    "    inplace=True\n",
    ")"
   ]
  },
  {
   "cell_type": "code",
   "execution_count": 38,
   "metadata": {
    "ExecuteTime": {
     "end_time": "2021-12-09T18:22:42.539684Z",
     "start_time": "2021-12-09T18:22:42.530732Z"
    }
   },
   "outputs": [
    {
     "data": {
      "text/html": [
       "<div>\n",
       "<style scoped>\n",
       "    .dataframe tbody tr th:only-of-type {\n",
       "        vertical-align: middle;\n",
       "    }\n",
       "\n",
       "    .dataframe tbody tr th {\n",
       "        vertical-align: top;\n",
       "    }\n",
       "\n",
       "    .dataframe thead th {\n",
       "        text-align: right;\n",
       "    }\n",
       "</style>\n",
       "<table border=\"1\" class=\"dataframe\">\n",
       "  <thead>\n",
       "    <tr style=\"text-align: right;\">\n",
       "      <th></th>\n",
       "      <th>Count</th>\n",
       "      <th>Churn Value</th>\n",
       "      <th>churn_rate</th>\n",
       "    </tr>\n",
       "    <tr>\n",
       "      <th>fiber</th>\n",
       "      <th></th>\n",
       "      <th></th>\n",
       "      <th></th>\n",
       "    </tr>\n",
       "  </thead>\n",
       "  <tbody>\n",
       "    <tr>\n",
       "      <th>1</th>\n",
       "      <td>3096</td>\n",
       "      <td>1297</td>\n",
       "      <td>0.42</td>\n",
       "    </tr>\n",
       "    <tr>\n",
       "      <th>0</th>\n",
       "      <td>3947</td>\n",
       "      <td>572</td>\n",
       "      <td>0.14</td>\n",
       "    </tr>\n",
       "  </tbody>\n",
       "</table>\n",
       "</div>"
      ],
      "text/plain": [
       "       Count  Churn Value  churn_rate\n",
       "fiber                                \n",
       "1       3096         1297        0.42\n",
       "0       3947          572        0.14"
      ]
     },
     "execution_count": 38,
     "metadata": {},
     "output_type": "execute_result"
    }
   ],
   "source": [
    "churn_by_group(df, 'fiber')"
   ]
  },
  {
   "cell_type": "code",
   "execution_count": 39,
   "metadata": {
    "ExecuteTime": {
     "end_time": "2021-12-09T18:22:42.545933Z",
     "start_time": "2021-12-09T18:22:42.541053Z"
    }
   },
   "outputs": [
    {
     "data": {
      "text/plain": [
       "No                     0.496663\n",
       "Yes                    0.286668\n",
       "No internet service    0.216669\n",
       "Name: Online Security, dtype: float64"
      ]
     },
     "execution_count": 39,
     "metadata": {},
     "output_type": "execute_result"
    }
   ],
   "source": [
    "#Examine the online security column\n",
    "df['Online Security'].value_counts(normalize=True)"
   ]
  },
  {
   "cell_type": "code",
   "execution_count": 40,
   "metadata": {
    "ExecuteTime": {
     "end_time": "2021-12-09T18:22:42.553119Z",
     "start_time": "2021-12-09T18:22:42.547364Z"
    }
   },
   "outputs": [],
   "source": [
    "#Convert online security to a binary where 0=no and 1=yes\n",
    "df['Online Security'].replace(\n",
    "    to_replace={'No':0, 'Yes':1, 'No internet service':0}, \n",
    "    inplace=True\n",
    ")"
   ]
  },
  {
   "cell_type": "code",
   "execution_count": 41,
   "metadata": {
    "ExecuteTime": {
     "end_time": "2021-12-09T18:22:42.559287Z",
     "start_time": "2021-12-09T18:22:42.554510Z"
    }
   },
   "outputs": [
    {
     "data": {
      "text/plain": [
       "No                     0.438450\n",
       "Yes                    0.344881\n",
       "No internet service    0.216669\n",
       "Name: Online Backup, dtype: float64"
      ]
     },
     "execution_count": 41,
     "metadata": {},
     "output_type": "execute_result"
    }
   ],
   "source": [
    "#Examine the online backup column\n",
    "df['Online Backup'].value_counts(normalize=True)"
   ]
  },
  {
   "cell_type": "code",
   "execution_count": 42,
   "metadata": {
    "ExecuteTime": {
     "end_time": "2021-12-09T18:22:42.567314Z",
     "start_time": "2021-12-09T18:22:42.560967Z"
    }
   },
   "outputs": [],
   "source": [
    "#Convert online backup to a binary where 0=no and 1=yes\n",
    "df['Online Backup'].replace(\n",
    "    to_replace={'No':0, 'Yes':1, 'No internet service':0}, \n",
    "    inplace=True\n",
    ")"
   ]
  },
  {
   "cell_type": "code",
   "execution_count": 43,
   "metadata": {
    "ExecuteTime": {
     "end_time": "2021-12-09T18:22:42.574435Z",
     "start_time": "2021-12-09T18:22:42.568738Z"
    }
   },
   "outputs": [
    {
     "data": {
      "text/plain": [
       "No                     0.439443\n",
       "Yes                    0.343888\n",
       "No internet service    0.216669\n",
       "Name: Device Protection, dtype: float64"
      ]
     },
     "execution_count": 43,
     "metadata": {},
     "output_type": "execute_result"
    }
   ],
   "source": [
    "#Examine the device protection column\n",
    "df['Device Protection'].value_counts(normalize=True)"
   ]
  },
  {
   "cell_type": "code",
   "execution_count": 44,
   "metadata": {
    "ExecuteTime": {
     "end_time": "2021-12-09T18:22:42.583136Z",
     "start_time": "2021-12-09T18:22:42.576541Z"
    }
   },
   "outputs": [],
   "source": [
    "#Convert device protection to a binary where 0=no and 1=yes\n",
    "df['Device Protection'].replace(\n",
    "    to_replace={'No':0, 'Yes':1, 'No internet service':0}, \n",
    "    inplace=True\n",
    ")"
   ]
  },
  {
   "cell_type": "code",
   "execution_count": 45,
   "metadata": {
    "ExecuteTime": {
     "end_time": "2021-12-09T18:22:42.589596Z",
     "start_time": "2021-12-09T18:22:42.584573Z"
    }
   },
   "outputs": [
    {
     "data": {
      "text/plain": [
       "No                     0.493114\n",
       "Yes                    0.290217\n",
       "No internet service    0.216669\n",
       "Name: Tech Support, dtype: float64"
      ]
     },
     "execution_count": 45,
     "metadata": {},
     "output_type": "execute_result"
    }
   ],
   "source": [
    "#Examine the tech support column\n",
    "df['Tech Support'].value_counts(normalize=True)"
   ]
  },
  {
   "cell_type": "code",
   "execution_count": 46,
   "metadata": {
    "ExecuteTime": {
     "end_time": "2021-12-09T18:22:42.597725Z",
     "start_time": "2021-12-09T18:22:42.591351Z"
    }
   },
   "outputs": [],
   "source": [
    "#Convert tech support to a binary where 0=no and 1=yes\n",
    "df['Tech Support'].replace(\n",
    "    to_replace={'No':0, 'Yes':1, 'No internet service':0}, \n",
    "    inplace=True\n",
    ")"
   ]
  },
  {
   "cell_type": "code",
   "execution_count": 47,
   "metadata": {
    "ExecuteTime": {
     "end_time": "2021-12-09T18:22:42.604212Z",
     "start_time": "2021-12-09T18:22:42.599077Z"
    }
   },
   "outputs": [],
   "source": [
    "#Create new column, extra, indicating if the customer has additional services\n",
    "df['extra'] = (\n",
    "    df['Online Security'] + \n",
    "    df['Online Backup'] + \n",
    "    df['Device Protection'] + \n",
    "    df['Tech Support']\n",
    ")\n",
    "df.loc[df.extra > 1, 'extra'] = 1"
   ]
  },
  {
   "cell_type": "code",
   "execution_count": 48,
   "metadata": {
    "ExecuteTime": {
     "end_time": "2021-12-09T18:22:42.613898Z",
     "start_time": "2021-12-09T18:22:42.605530Z"
    }
   },
   "outputs": [
    {
     "data": {
      "text/html": [
       "<div>\n",
       "<style scoped>\n",
       "    .dataframe tbody tr th:only-of-type {\n",
       "        vertical-align: middle;\n",
       "    }\n",
       "\n",
       "    .dataframe tbody tr th {\n",
       "        vertical-align: top;\n",
       "    }\n",
       "\n",
       "    .dataframe thead th {\n",
       "        text-align: right;\n",
       "    }\n",
       "</style>\n",
       "<table border=\"1\" class=\"dataframe\">\n",
       "  <thead>\n",
       "    <tr style=\"text-align: right;\">\n",
       "      <th></th>\n",
       "      <th>Count</th>\n",
       "      <th>Churn Value</th>\n",
       "      <th>churn_rate</th>\n",
       "    </tr>\n",
       "    <tr>\n",
       "      <th>extra</th>\n",
       "      <th></th>\n",
       "      <th></th>\n",
       "      <th></th>\n",
       "    </tr>\n",
       "  </thead>\n",
       "  <tbody>\n",
       "    <tr>\n",
       "      <th>0</th>\n",
       "      <td>2793</td>\n",
       "      <td>831</td>\n",
       "      <td>0.30</td>\n",
       "    </tr>\n",
       "    <tr>\n",
       "      <th>1</th>\n",
       "      <td>4250</td>\n",
       "      <td>1038</td>\n",
       "      <td>0.24</td>\n",
       "    </tr>\n",
       "  </tbody>\n",
       "</table>\n",
       "</div>"
      ],
      "text/plain": [
       "       Count  Churn Value  churn_rate\n",
       "extra                                \n",
       "0       2793          831        0.30\n",
       "1       4250         1038        0.24"
      ]
     },
     "execution_count": 48,
     "metadata": {},
     "output_type": "execute_result"
    }
   ],
   "source": [
    "churn_rate_extra_services = churn_by_group(df, 'extra')\n",
    "churn_rate_extra_services"
   ]
  },
  {
   "cell_type": "code",
   "execution_count": 49,
   "metadata": {
    "ExecuteTime": {
     "end_time": "2021-12-09T18:22:42.620321Z",
     "start_time": "2021-12-09T18:22:42.615231Z"
    }
   },
   "outputs": [
    {
     "data": {
      "text/plain": [
       "No                     0.398978\n",
       "Yes                    0.384353\n",
       "No internet service    0.216669\n",
       "Name: Streaming TV, dtype: float64"
      ]
     },
     "execution_count": 49,
     "metadata": {},
     "output_type": "execute_result"
    }
   ],
   "source": [
    "#Examine the streaming TV column\n",
    "df['Streaming TV'].value_counts(normalize=True)"
   ]
  },
  {
   "cell_type": "code",
   "execution_count": 50,
   "metadata": {
    "ExecuteTime": {
     "end_time": "2021-12-09T18:22:42.627923Z",
     "start_time": "2021-12-09T18:22:42.621905Z"
    }
   },
   "outputs": [],
   "source": [
    "#Convert streaming TV to a binary where 0=no and 1=yes\n",
    "df['Streaming TV'].replace(\n",
    "    to_replace={'No':0, 'Yes':1, 'No internet service':0}, \n",
    "    inplace=True\n",
    ")"
   ]
  },
  {
   "cell_type": "code",
   "execution_count": 51,
   "metadata": {
    "ExecuteTime": {
     "end_time": "2021-12-09T18:22:42.634779Z",
     "start_time": "2021-12-09T18:22:42.629770Z"
    }
   },
   "outputs": [
    {
     "data": {
      "text/plain": [
       "No                     0.395428\n",
       "Yes                    0.387903\n",
       "No internet service    0.216669\n",
       "Name: Streaming Movies, dtype: float64"
      ]
     },
     "execution_count": 51,
     "metadata": {},
     "output_type": "execute_result"
    }
   ],
   "source": [
    "#Examine the streaming movies column\n",
    "df['Streaming Movies'].value_counts(normalize=True)"
   ]
  },
  {
   "cell_type": "code",
   "execution_count": 52,
   "metadata": {
    "ExecuteTime": {
     "end_time": "2021-12-09T18:22:42.642163Z",
     "start_time": "2021-12-09T18:22:42.636427Z"
    }
   },
   "outputs": [],
   "source": [
    "#Convert streaming movies to a binary where 0=no and 1=yes\n",
    "df['Streaming Movies'].replace(\n",
    "    to_replace={'No':0, 'Yes':1, 'No internet service':0}, \n",
    "    inplace=True\n",
    ")"
   ]
  },
  {
   "cell_type": "code",
   "execution_count": 53,
   "metadata": {
    "ExecuteTime": {
     "end_time": "2021-12-09T18:22:42.646881Z",
     "start_time": "2021-12-09T18:22:42.643432Z"
    }
   },
   "outputs": [],
   "source": [
    "#Create a new column, streaming, which is 1 if any streaming service\n",
    "df['streaming'] = df['Streaming Movies'] + df['Streaming TV']\n",
    "df['streaming'].replace(2,1, inplace=True)"
   ]
  },
  {
   "cell_type": "code",
   "execution_count": 54,
   "metadata": {
    "ExecuteTime": {
     "end_time": "2021-12-09T18:22:42.657437Z",
     "start_time": "2021-12-09T18:22:42.648096Z"
    }
   },
   "outputs": [
    {
     "data": {
      "text/html": [
       "<div>\n",
       "<style scoped>\n",
       "    .dataframe tbody tr th:only-of-type {\n",
       "        vertical-align: middle;\n",
       "    }\n",
       "\n",
       "    .dataframe tbody tr th {\n",
       "        vertical-align: top;\n",
       "    }\n",
       "\n",
       "    .dataframe thead th {\n",
       "        text-align: right;\n",
       "    }\n",
       "</style>\n",
       "<table border=\"1\" class=\"dataframe\">\n",
       "  <thead>\n",
       "    <tr style=\"text-align: right;\">\n",
       "      <th></th>\n",
       "      <th>Count</th>\n",
       "      <th>Churn Value</th>\n",
       "      <th>churn_rate</th>\n",
       "    </tr>\n",
       "    <tr>\n",
       "      <th>streaming</th>\n",
       "      <th></th>\n",
       "      <th></th>\n",
       "      <th></th>\n",
       "    </tr>\n",
       "  </thead>\n",
       "  <tbody>\n",
       "    <tr>\n",
       "      <th>1</th>\n",
       "      <td>3499</td>\n",
       "      <td>1061</td>\n",
       "      <td>0.30</td>\n",
       "    </tr>\n",
       "    <tr>\n",
       "      <th>0</th>\n",
       "      <td>3544</td>\n",
       "      <td>808</td>\n",
       "      <td>0.23</td>\n",
       "    </tr>\n",
       "  </tbody>\n",
       "</table>\n",
       "</div>"
      ],
      "text/plain": [
       "           Count  Churn Value  churn_rate\n",
       "streaming                                \n",
       "1           3499         1061        0.30\n",
       "0           3544          808        0.23"
      ]
     },
     "execution_count": 54,
     "metadata": {},
     "output_type": "execute_result"
    }
   ],
   "source": [
    "churn_by_group(df, 'streaming')"
   ]
  },
  {
   "cell_type": "code",
   "execution_count": 55,
   "metadata": {
    "ExecuteTime": {
     "end_time": "2021-12-09T18:22:42.665228Z",
     "start_time": "2021-12-09T18:22:42.659252Z"
    }
   },
   "outputs": [
    {
     "data": {
      "text/plain": [
       "Month-to-month    0.550192\n",
       "Two year          0.240664\n",
       "One year          0.209144\n",
       "Name: Contract, dtype: float64"
      ]
     },
     "execution_count": 55,
     "metadata": {},
     "output_type": "execute_result"
    }
   ],
   "source": [
    "#Examine the contract column\n",
    "df['Contract'].value_counts(normalize=True)"
   ]
  },
  {
   "cell_type": "code",
   "execution_count": 56,
   "metadata": {
    "ExecuteTime": {
     "end_time": "2021-12-09T18:22:42.678710Z",
     "start_time": "2021-12-09T18:22:42.667037Z"
    },
    "scrolled": true
   },
   "outputs": [
    {
     "data": {
      "text/html": [
       "<div>\n",
       "<style scoped>\n",
       "    .dataframe tbody tr th:only-of-type {\n",
       "        vertical-align: middle;\n",
       "    }\n",
       "\n",
       "    .dataframe tbody tr th {\n",
       "        vertical-align: top;\n",
       "    }\n",
       "\n",
       "    .dataframe thead th {\n",
       "        text-align: right;\n",
       "    }\n",
       "</style>\n",
       "<table border=\"1\" class=\"dataframe\">\n",
       "  <thead>\n",
       "    <tr style=\"text-align: right;\">\n",
       "      <th></th>\n",
       "      <th>Count</th>\n",
       "      <th>Churn Value</th>\n",
       "      <th>churn_rate</th>\n",
       "      <th>contract_rate</th>\n",
       "    </tr>\n",
       "    <tr>\n",
       "      <th>Contract</th>\n",
       "      <th></th>\n",
       "      <th></th>\n",
       "      <th></th>\n",
       "      <th></th>\n",
       "    </tr>\n",
       "  </thead>\n",
       "  <tbody>\n",
       "    <tr>\n",
       "      <th>Month-to-month</th>\n",
       "      <td>3875</td>\n",
       "      <td>1655</td>\n",
       "      <td>0.43</td>\n",
       "      <td>0.55</td>\n",
       "    </tr>\n",
       "    <tr>\n",
       "      <th>One year</th>\n",
       "      <td>1473</td>\n",
       "      <td>166</td>\n",
       "      <td>0.11</td>\n",
       "      <td>0.21</td>\n",
       "    </tr>\n",
       "    <tr>\n",
       "      <th>Two year</th>\n",
       "      <td>1695</td>\n",
       "      <td>48</td>\n",
       "      <td>0.03</td>\n",
       "      <td>0.24</td>\n",
       "    </tr>\n",
       "  </tbody>\n",
       "</table>\n",
       "</div>"
      ],
      "text/plain": [
       "                Count  Churn Value  churn_rate  contract_rate\n",
       "Contract                                                     \n",
       "Month-to-month   3875         1655        0.43           0.55\n",
       "One year         1473          166        0.11           0.21\n",
       "Two year         1695           48        0.03           0.24"
      ]
     },
     "execution_count": 56,
     "metadata": {},
     "output_type": "execute_result"
    }
   ],
   "source": [
    "#Examine relationship between contract type and churn\n",
    "churn_rate_contract = churn_by_group(df, 'Contract')\n",
    "churn_rate_contract['contract_rate'] = round(\n",
    "    churn_rate_contract['Count']/churn_rate_contract['Count'].sum(),\n",
    "    2\n",
    "    )\n",
    "churn_rate_contract"
   ]
  },
  {
   "cell_type": "markdown",
   "metadata": {},
   "source": [
    "As expected, there appears to be a correlation between contract type and churn rate. "
   ]
  },
  {
   "cell_type": "code",
   "execution_count": 57,
   "metadata": {
    "ExecuteTime": {
     "end_time": "2021-12-09T18:22:42.684873Z",
     "start_time": "2021-12-09T18:22:42.680473Z"
    }
   },
   "outputs": [
    {
     "data": {
      "text/plain": [
       "Yes    0.592219\n",
       "No     0.407781\n",
       "Name: Paperless Billing, dtype: float64"
      ]
     },
     "execution_count": 57,
     "metadata": {},
     "output_type": "execute_result"
    }
   ],
   "source": [
    "#Examine the paperless billing column\n",
    "df['Paperless Billing'].value_counts(normalize=True)"
   ]
  },
  {
   "cell_type": "code",
   "execution_count": 58,
   "metadata": {
    "ExecuteTime": {
     "end_time": "2021-12-09T18:22:42.692294Z",
     "start_time": "2021-12-09T18:22:42.686719Z"
    }
   },
   "outputs": [],
   "source": [
    "#Convert paperless billing to a binary where 0=no and 1=yes\n",
    "df['Paperless Billing'].replace(\n",
    "    to_replace={'No':0, 'Yes':1}, \n",
    "    inplace=True\n",
    ")"
   ]
  },
  {
   "cell_type": "code",
   "execution_count": 59,
   "metadata": {
    "ExecuteTime": {
     "end_time": "2021-12-09T18:22:42.698899Z",
     "start_time": "2021-12-09T18:22:42.693656Z"
    }
   },
   "outputs": [
    {
     "data": {
      "text/plain": [
       "Electronic check             0.335794\n",
       "Mailed check                 0.228880\n",
       "Bank transfer (automatic)    0.219225\n",
       "Credit card (automatic)      0.216101\n",
       "Name: Payment Method, dtype: float64"
      ]
     },
     "execution_count": 59,
     "metadata": {},
     "output_type": "execute_result"
    }
   ],
   "source": [
    "#Examine the payment method column\n",
    "df['Payment Method'].value_counts(normalize=True)"
   ]
  },
  {
   "cell_type": "code",
   "execution_count": 60,
   "metadata": {
    "ExecuteTime": {
     "end_time": "2021-12-09T18:22:42.706301Z",
     "start_time": "2021-12-09T18:22:42.700178Z"
    }
   },
   "outputs": [],
   "source": [
    "#Create a new column, automatic payment, with 0 for No and 1 for Yes\n",
    "df['auto_payment'] = df['Payment Method']\n",
    "df['auto_payment'].replace(\n",
    "    to_replace={'Electronic check':0, \n",
    "                'Mailed check':0, \n",
    "                'Bank transfer (automatic)':1,\n",
    "                'Credit card (automatic)':1}, \n",
    "    inplace=True\n",
    ")"
   ]
  },
  {
   "cell_type": "code",
   "execution_count": 61,
   "metadata": {
    "ExecuteTime": {
     "end_time": "2021-12-09T18:22:42.718398Z",
     "start_time": "2021-12-09T18:22:42.707621Z"
    }
   },
   "outputs": [
    {
     "data": {
      "text/html": [
       "<div>\n",
       "<style scoped>\n",
       "    .dataframe tbody tr th:only-of-type {\n",
       "        vertical-align: middle;\n",
       "    }\n",
       "\n",
       "    .dataframe tbody tr th {\n",
       "        vertical-align: top;\n",
       "    }\n",
       "\n",
       "    .dataframe thead th {\n",
       "        text-align: right;\n",
       "    }\n",
       "</style>\n",
       "<table border=\"1\" class=\"dataframe\">\n",
       "  <thead>\n",
       "    <tr style=\"text-align: right;\">\n",
       "      <th></th>\n",
       "      <th>Count</th>\n",
       "      <th>Churn Value</th>\n",
       "      <th>churn_rate</th>\n",
       "    </tr>\n",
       "    <tr>\n",
       "      <th>auto_payment</th>\n",
       "      <th></th>\n",
       "      <th></th>\n",
       "      <th></th>\n",
       "    </tr>\n",
       "  </thead>\n",
       "  <tbody>\n",
       "    <tr>\n",
       "      <th>0</th>\n",
       "      <td>3977</td>\n",
       "      <td>1379</td>\n",
       "      <td>0.35</td>\n",
       "    </tr>\n",
       "    <tr>\n",
       "      <th>1</th>\n",
       "      <td>3066</td>\n",
       "      <td>490</td>\n",
       "      <td>0.16</td>\n",
       "    </tr>\n",
       "  </tbody>\n",
       "</table>\n",
       "</div>"
      ],
      "text/plain": [
       "              Count  Churn Value  churn_rate\n",
       "auto_payment                                \n",
       "0              3977         1379        0.35\n",
       "1              3066          490        0.16"
      ]
     },
     "execution_count": 61,
     "metadata": {},
     "output_type": "execute_result"
    }
   ],
   "source": [
    "churn_by_group(df, 'auto_payment')"
   ]
  },
  {
   "cell_type": "code",
   "execution_count": 62,
   "metadata": {
    "ExecuteTime": {
     "end_time": "2021-12-09T18:22:42.727591Z",
     "start_time": "2021-12-09T18:22:42.720698Z"
    }
   },
   "outputs": [
    {
     "data": {
      "text/plain": [
       "count    7043.000000\n",
       "mean       64.761692\n",
       "std        30.090047\n",
       "min        18.250000\n",
       "25%        35.500000\n",
       "50%        70.350000\n",
       "75%        89.850000\n",
       "max       118.750000\n",
       "Name: Monthly Charges, dtype: float64"
      ]
     },
     "execution_count": 62,
     "metadata": {},
     "output_type": "execute_result"
    }
   ],
   "source": [
    "#Examine the monthly charges column\n",
    "df['Monthly Charges'].describe()"
   ]
  },
  {
   "cell_type": "code",
   "execution_count": 63,
   "metadata": {
    "ExecuteTime": {
     "end_time": "2021-12-09T18:22:42.848462Z",
     "start_time": "2021-12-09T18:22:42.729120Z"
    }
   },
   "outputs": [
    {
     "data": {
      "image/png": "[encoded data removed]",
      "text/plain": [
       "<Figure size 432x288 with 1 Axes>"
      ]
     },
     "metadata": {
      "needs_background": "light"
     },
     "output_type": "display_data"
    }
   ],
   "source": [
    "df['Monthly Charges'].hist(bins=20);"
   ]
  },
  {
   "cell_type": "code",
   "execution_count": 64,
   "metadata": {
    "ExecuteTime": {
     "end_time": "2021-12-09T18:22:42.855530Z",
     "start_time": "2021-12-09T18:22:42.850212Z"
    }
   },
   "outputs": [
    {
     "data": {
      "text/plain": [
       "internet\n",
       "0    21.079194\n",
       "1    76.844254\n",
       "Name: Monthly Charges, dtype: float64"
      ]
     },
     "execution_count": 64,
     "metadata": {},
     "output_type": "execute_result"
    }
   ],
   "source": [
    "#Check if monthly charges correlates with internet service\n",
    "df.groupby('internet')['Monthly Charges'].mean()"
   ]
  },
  {
   "cell_type": "code",
   "execution_count": 65,
   "metadata": {
    "ExecuteTime": {
     "end_time": "2021-12-09T18:22:42.985024Z",
     "start_time": "2021-12-09T18:22:42.856823Z"
    }
   },
   "outputs": [
    {
     "data": {
      "text/plain": [
       "<AxesSubplot:xlabel='Tenure Months', ylabel='Monthly Charges'>"
      ]
     },
     "execution_count": 65,
     "metadata": {},
     "output_type": "execute_result"
    },
    {
     "data": {
      "image/png": "[encoded data removed]",
      "text/plain": [
       "<Figure size 432x288 with 1 Axes>"
      ]
     },
     "metadata": {
      "needs_background": "light"
     },
     "output_type": "display_data"
    }
   ],
   "source": [
    "#Check if monthly charges correlates with tenure\n",
    "sns.scatterplot(data=df, x='Tenure Months', y='Monthly Charges')"
   ]
  },
  {
   "cell_type": "markdown",
   "metadata": {},
   "source": [
    "Customers with internet service pay an average of \\\\$76.84, whereas customers without internet pay an average of \\\\$21.08 per month. There does not seem to be a correlation with tenure and monthly bill."
   ]
  },
  {
   "cell_type": "code",
   "execution_count": 66,
   "metadata": {
    "ExecuteTime": {
     "end_time": "2021-12-09T18:22:42.991675Z",
     "start_time": "2021-12-09T18:22:42.986815Z"
    }
   },
   "outputs": [
    {
     "data": {
      "text/plain": [
       "Churn Value\n",
       "0    61.265124\n",
       "1    74.441332\n",
       "Name: Monthly Charges, dtype: float64"
      ]
     },
     "execution_count": 66,
     "metadata": {},
     "output_type": "execute_result"
    }
   ],
   "source": [
    "#Check if monthly charges correlates with churn\n",
    "df.groupby('Churn Value')['Monthly Charges'].mean()"
   ]
  },
  {
   "cell_type": "markdown",
   "metadata": {},
   "source": [
    "Customers that cancel have bills that are \\\\$13.18 higher per month, on average. "
   ]
  },
  {
   "cell_type": "code",
   "execution_count": 67,
   "metadata": {
    "ExecuteTime": {
     "end_time": "2021-12-09T18:22:42.997943Z",
     "start_time": "2021-12-09T18:22:42.992897Z"
    }
   },
   "outputs": [],
   "source": [
    "#Change the total charges column to a float, replacing missing values with 0\n",
    "df['Total Charges'] = df['Total Charges'].replace(' ', 0)\n",
    "df['Total Charges'] = df['Total Charges'].astype('float')"
   ]
  },
  {
   "cell_type": "code",
   "execution_count": 68,
   "metadata": {
    "ExecuteTime": {
     "end_time": "2021-12-09T18:22:43.014072Z",
     "start_time": "2021-12-09T18:22:43.007606Z"
    }
   },
   "outputs": [
    {
     "data": {
      "text/plain": [
       "count    7043.000000\n",
       "mean     2279.734304\n",
       "std      2266.794470\n",
       "min         0.000000\n",
       "25%       398.550000\n",
       "50%      1394.550000\n",
       "75%      3786.600000\n",
       "max      8684.800000\n",
       "Name: Total Charges, dtype: float64"
      ]
     },
     "execution_count": 68,
     "metadata": {},
     "output_type": "execute_result"
    }
   ],
   "source": [
    "#Examine the total charges column\n",
    "df['Total Charges'].describe()"
   ]
  },
  {
   "cell_type": "code",
   "execution_count": 69,
   "metadata": {
    "ExecuteTime": {
     "end_time": "2021-12-09T18:22:43.024409Z",
     "start_time": "2021-12-09T18:22:43.016626Z"
    }
   },
   "outputs": [
    {
     "data": {
      "text/plain": [
       "count    7032.000000\n",
       "mean       64.803185\n",
       "std        30.185092\n",
       "min        14.000000\n",
       "25%        36.000000\n",
       "50%        70.000000\n",
       "75%        90.000000\n",
       "max       121.000000\n",
       "Name: avg_per_month, dtype: float64"
      ]
     },
     "execution_count": 69,
     "metadata": {},
     "output_type": "execute_result"
    }
   ],
   "source": [
    "#Create a new column, average per month, using total charges and tenure\n",
    "df['avg_per_month'] = round(df['Total Charges']/df['Tenure Months'])\n",
    "df['avg_per_month'].describe()"
   ]
  },
  {
   "cell_type": "code",
   "execution_count": 70,
   "metadata": {
    "ExecuteTime": {
     "end_time": "2021-12-09T18:22:43.328482Z",
     "start_time": "2021-12-09T18:22:43.026600Z"
    }
   },
   "outputs": [
    {
     "data": {
      "image/png": "[encoded data removed]",
      "text/plain": [
       "<Figure size 432x288 with 1 Axes>"
      ]
     },
     "metadata": {
      "needs_background": "light"
     },
     "output_type": "display_data"
    }
   ],
   "source": [
    "#Check how total charges correlate with tenure\n",
    "sns.scatterplot(\n",
    "    data=df, \n",
    "    x='Tenure Months', \n",
    "    y='Total Charges', \n",
    "    hue='Churn Label', \n",
    "    alpha=.5\n",
    ");"
   ]
  },
  {
   "cell_type": "code",
   "execution_count": 71,
   "metadata": {
    "ExecuteTime": {
     "end_time": "2021-12-09T18:22:43.346884Z",
     "start_time": "2021-12-09T18:22:43.330568Z"
    },
    "scrolled": true
   },
   "outputs": [
    {
     "data": {
      "text/html": [
       "<div>\n",
       "<style scoped>\n",
       "    .dataframe tbody tr th:only-of-type {\n",
       "        vertical-align: middle;\n",
       "    }\n",
       "\n",
       "    .dataframe tbody tr th {\n",
       "        vertical-align: top;\n",
       "    }\n",
       "\n",
       "    .dataframe thead th {\n",
       "        text-align: right;\n",
       "    }\n",
       "</style>\n",
       "<table border=\"1\" class=\"dataframe\">\n",
       "  <thead>\n",
       "    <tr style=\"text-align: right;\">\n",
       "      <th></th>\n",
       "      <th>CustomerID</th>\n",
       "      <th>Count</th>\n",
       "      <th>Country</th>\n",
       "      <th>State</th>\n",
       "      <th>City</th>\n",
       "      <th>Zip Code</th>\n",
       "      <th>Lat Long</th>\n",
       "      <th>Latitude</th>\n",
       "      <th>Longitude</th>\n",
       "      <th>Gender</th>\n",
       "      <th>...</th>\n",
       "      <th>Churn Score</th>\n",
       "      <th>CLTV</th>\n",
       "      <th>Churn Reason</th>\n",
       "      <th>more_than_year</th>\n",
       "      <th>internet</th>\n",
       "      <th>fiber</th>\n",
       "      <th>extra</th>\n",
       "      <th>streaming</th>\n",
       "      <th>auto_payment</th>\n",
       "      <th>avg_per_month</th>\n",
       "    </tr>\n",
       "  </thead>\n",
       "  <tbody>\n",
       "    <tr>\n",
       "      <th>0</th>\n",
       "      <td>3668-QPYBK</td>\n",
       "      <td>1</td>\n",
       "      <td>United States</td>\n",
       "      <td>California</td>\n",
       "      <td>Los Angeles</td>\n",
       "      <td>90003</td>\n",
       "      <td>33.964131, -118.272783</td>\n",
       "      <td>33.964131</td>\n",
       "      <td>-118.272783</td>\n",
       "      <td>1</td>\n",
       "      <td>...</td>\n",
       "      <td>86</td>\n",
       "      <td>3239</td>\n",
       "      <td>Competitor made better offer</td>\n",
       "      <td>0</td>\n",
       "      <td>1</td>\n",
       "      <td>0</td>\n",
       "      <td>1</td>\n",
       "      <td>0</td>\n",
       "      <td>0</td>\n",
       "      <td>54.0</td>\n",
       "    </tr>\n",
       "    <tr>\n",
       "      <th>1</th>\n",
       "      <td>9237-HQITU</td>\n",
       "      <td>1</td>\n",
       "      <td>United States</td>\n",
       "      <td>California</td>\n",
       "      <td>Los Angeles</td>\n",
       "      <td>90005</td>\n",
       "      <td>34.059281, -118.30742</td>\n",
       "      <td>34.059281</td>\n",
       "      <td>-118.307420</td>\n",
       "      <td>0</td>\n",
       "      <td>...</td>\n",
       "      <td>67</td>\n",
       "      <td>2701</td>\n",
       "      <td>Moved</td>\n",
       "      <td>0</td>\n",
       "      <td>1</td>\n",
       "      <td>1</td>\n",
       "      <td>0</td>\n",
       "      <td>0</td>\n",
       "      <td>0</td>\n",
       "      <td>76.0</td>\n",
       "    </tr>\n",
       "    <tr>\n",
       "      <th>2</th>\n",
       "      <td>9305-CDSKC</td>\n",
       "      <td>1</td>\n",
       "      <td>United States</td>\n",
       "      <td>California</td>\n",
       "      <td>Los Angeles</td>\n",
       "      <td>90006</td>\n",
       "      <td>34.048013, -118.293953</td>\n",
       "      <td>34.048013</td>\n",
       "      <td>-118.293953</td>\n",
       "      <td>0</td>\n",
       "      <td>...</td>\n",
       "      <td>86</td>\n",
       "      <td>5372</td>\n",
       "      <td>Moved</td>\n",
       "      <td>0</td>\n",
       "      <td>1</td>\n",
       "      <td>1</td>\n",
       "      <td>1</td>\n",
       "      <td>1</td>\n",
       "      <td>0</td>\n",
       "      <td>103.0</td>\n",
       "    </tr>\n",
       "    <tr>\n",
       "      <th>3</th>\n",
       "      <td>7892-POOKP</td>\n",
       "      <td>1</td>\n",
       "      <td>United States</td>\n",
       "      <td>California</td>\n",
       "      <td>Los Angeles</td>\n",
       "      <td>90010</td>\n",
       "      <td>34.062125, -118.315709</td>\n",
       "      <td>34.062125</td>\n",
       "      <td>-118.315709</td>\n",
       "      <td>0</td>\n",
       "      <td>...</td>\n",
       "      <td>84</td>\n",
       "      <td>5003</td>\n",
       "      <td>Moved</td>\n",
       "      <td>1</td>\n",
       "      <td>1</td>\n",
       "      <td>1</td>\n",
       "      <td>1</td>\n",
       "      <td>1</td>\n",
       "      <td>0</td>\n",
       "      <td>109.0</td>\n",
       "    </tr>\n",
       "    <tr>\n",
       "      <th>4</th>\n",
       "      <td>0280-XJGEX</td>\n",
       "      <td>1</td>\n",
       "      <td>United States</td>\n",
       "      <td>California</td>\n",
       "      <td>Los Angeles</td>\n",
       "      <td>90015</td>\n",
       "      <td>34.039224, -118.266293</td>\n",
       "      <td>34.039224</td>\n",
       "      <td>-118.266293</td>\n",
       "      <td>1</td>\n",
       "      <td>...</td>\n",
       "      <td>89</td>\n",
       "      <td>5340</td>\n",
       "      <td>Competitor had better devices</td>\n",
       "      <td>1</td>\n",
       "      <td>1</td>\n",
       "      <td>1</td>\n",
       "      <td>1</td>\n",
       "      <td>1</td>\n",
       "      <td>1</td>\n",
       "      <td>103.0</td>\n",
       "    </tr>\n",
       "  </tbody>\n",
       "</table>\n",
       "<p>5 rows × 40 columns</p>\n",
       "</div>"
      ],
      "text/plain": [
       "   CustomerID  Count        Country       State         City  Zip Code  \\\n",
       "0  3668-QPYBK      1  United States  California  Los Angeles     90003   \n",
       "1  9237-HQITU      1  United States  California  Los Angeles     90005   \n",
       "2  9305-CDSKC      1  United States  California  Los Angeles     90006   \n",
       "3  7892-POOKP      1  United States  California  Los Angeles     90010   \n",
       "4  0280-XJGEX      1  United States  California  Los Angeles     90015   \n",
       "\n",
       "                 Lat Long   Latitude   Longitude  Gender  ...  Churn Score  \\\n",
       "0  33.964131, -118.272783  33.964131 -118.272783       1  ...           86   \n",
       "1   34.059281, -118.30742  34.059281 -118.307420       0  ...           67   \n",
       "2  34.048013, -118.293953  34.048013 -118.293953       0  ...           86   \n",
       "3  34.062125, -118.315709  34.062125 -118.315709       0  ...           84   \n",
       "4  34.039224, -118.266293  34.039224 -118.266293       1  ...           89   \n",
       "\n",
       "   CLTV                   Churn Reason  more_than_year  internet  fiber extra  \\\n",
       "0  3239   Competitor made better offer               0         1      0     1   \n",
       "1  2701                          Moved               0         1      1     0   \n",
       "2  5372                          Moved               0         1      1     1   \n",
       "3  5003                          Moved               1         1      1     1   \n",
       "4  5340  Competitor had better devices               1         1      1     1   \n",
       "\n",
       "   streaming  auto_payment  avg_per_month  \n",
       "0          0             0           54.0  \n",
       "1          0             0           76.0  \n",
       "2          1             0          103.0  \n",
       "3          1             0          109.0  \n",
       "4          1             1          103.0  \n",
       "\n",
       "[5 rows x 40 columns]"
      ]
     },
     "execution_count": 71,
     "metadata": {},
     "output_type": "execute_result"
    }
   ],
   "source": [
    "df.head()"
   ]
  },
  {
   "cell_type": "code",
   "execution_count": 72,
   "metadata": {
    "ExecuteTime": {
     "end_time": "2021-12-09T18:22:43.455819Z",
     "start_time": "2021-12-09T18:22:43.348283Z"
    }
   },
   "outputs": [],
   "source": [
    "df.to_csv('churn_data.csv')"
   ]
  },
  {
   "cell_type": "markdown",
   "metadata": {},
   "source": [
    "# Preparation for Modeling"
   ]
  },
  {
   "cell_type": "code",
   "execution_count": 73,
   "metadata": {
    "ExecuteTime": {
     "end_time": "2021-12-09T18:22:43.465078Z",
     "start_time": "2021-12-09T18:22:43.457882Z"
    }
   },
   "outputs": [],
   "source": [
    "X = df.copy()\n",
    "X.drop(['CustomerID', 'Count', 'Country', 'State', 'City', 'Zip Code',\n",
    "       'Lat Long','Churn Label', 'Churn Value','Churn Score', 'CLTV', \n",
    "        'Churn Reason'], axis=1, inplace=True)\n",
    "y = df['Churn Value']"
   ]
  },
  {
   "cell_type": "code",
   "execution_count": 74,
   "metadata": {
    "ExecuteTime": {
     "end_time": "2021-12-09T18:22:43.474633Z",
     "start_time": "2021-12-09T18:22:43.466914Z"
    }
   },
   "outputs": [],
   "source": [
    "X_train, X_, y_train, y_ = train_test_split(\n",
    "    X,\n",
    "    y, \n",
    "    random_state=42, \n",
    "    test_size=.30\n",
    ")\n",
    "X_val, X_test, y_val, y_test = train_test_split(\n",
    "    X_,\n",
    "    y_,\n",
    "    random_state=42,\n",
    "    test_size=.5\n",
    ")"
   ]
  },
  {
   "cell_type": "code",
   "execution_count": 75,
   "metadata": {
    "ExecuteTime": {
     "end_time": "2021-12-09T18:22:43.510659Z",
     "start_time": "2021-12-09T18:22:43.476867Z"
    }
   },
   "outputs": [],
   "source": [
    "#Identify categorical and numeric columns in X_train.\n",
    "cat_cols = X_train.select_dtypes('object').columns \n",
    "num_cols = X_train.select_dtypes('number').columns\n",
    "\n",
    "#One hot encode the categorical features and scale the numeric features.\n",
    "num_transformer = Pipeline([('scale', StandardScaler())])\n",
    "cat_transformer = Pipeline([('ohe', OneHotEncoder(handle_unknown='ignore',\n",
    "sparse=False))])\n",
    "\n",
    "transformer = ColumnTransformer([ \n",
    "    (\n",
    "        'num', num_transformer, num_cols\n",
    "    ), \n",
    "    (\n",
    "        'cat', cat_transformer, cat_cols\n",
    "    ) \n",
    "])\n",
    "\n",
    "#Create and apply a pipeline to preprocess the data\n",
    "preprocess = Pipeline([('transformer', transformer)]) \n",
    "\n",
    "X_train_processed = preprocess.fit_transform(X_train)\n",
    "X_train_processed_df = pd.DataFrame(X_train_processed)\n",
    "X_val_processed = preprocess.transform(X_val)\n",
    "X_val_processed_df = pd.DataFrame(X_val_processed)\n",
    "X_test_processed = preprocess.transform(X_test)\n",
    "X_test_processed_df = pd.DataFrame(X_test_processed)\n",
    "\n",
    "cat_names = (preprocess.named_steps['transformer'] \n",
    "             .transformers_[1][1].named_steps['ohe']\n",
    "            .get_feature_names(cat_cols)) \n",
    "feature_names = list(num_cols) + list(cat_names)\n",
    "\n",
    "X_train_processed_df.columns = feature_names\n",
    "X_val_processed_df.columns = feature_names\n",
    "X_test_processed_df.columns = feature_names"
   ]
  },
  {
   "cell_type": "code",
   "execution_count": 76,
   "metadata": {
    "ExecuteTime": {
     "end_time": "2021-12-09T18:22:43.517056Z",
     "start_time": "2021-12-09T18:22:43.512174Z"
    }
   },
   "outputs": [],
   "source": [
    "#Inital feature selection\n",
    "\n",
    "cols_to_drop = ['Streaming TV', 'Streaming Movies',\n",
    "        'Paperless Billing','Total Charges', 'avg_per_month',\n",
    "        'Internet Service_DSL', 'more_than_year',\n",
    "        'Internet Service_Fiber optic', 'Internet Service_No',\n",
    "        'Payment Method_Bank transfer (automatic)',\n",
    "        'Payment Method_Credit card (automatic)',\n",
    "        'Payment Method_Electronic check', 'Payment Method_Mailed check',\n",
    "        'Online Security', 'Online Backup', 'Device Protection', \n",
    "        'Tech Support']\n",
    "\n",
    "X_train_processed_df.drop(cols_to_drop, axis=1, inplace=True)\n",
    "X_val_processed_df.drop(cols_to_drop, axis=1, inplace=True)\n",
    "X_test_processed_df.drop(cols_to_drop, axis=1, inplace=True)"
   ]
  },
  {
   "cell_type": "markdown",
   "metadata": {},
   "source": [
    "Because of the unbalanced classes, a resampling technique, such as SMOTE, may need to be applied in order to obtain satisfactory results. However, I am going to first determine if using balanced classes as a hyperparameter is sufficient in an attempt to avoid working with synthetic data. "
   ]
  },
  {
   "cell_type": "markdown",
   "metadata": {},
   "source": [
    "# Modeling"
   ]
  },
  {
   "cell_type": "markdown",
   "metadata": {},
   "source": [
    "As mentioned before, the goal is to optimize for recall in order to identify as many of the churned customers as possible. "
   ]
  },
  {
   "cell_type": "markdown",
   "metadata": {},
   "source": [
    "## Helper Functions"
   ]
  },
  {
   "cell_type": "code",
   "execution_count": 77,
   "metadata": {
    "ExecuteTime": {
     "end_time": "2021-12-09T18:22:43.522431Z",
     "start_time": "2021-12-09T18:22:43.518480Z"
    }
   },
   "outputs": [],
   "source": [
    "#A dictionary with the basic classification algorithms.\n",
    "clf_dict = {\n",
    "    'baseline': DummyClassifier(\n",
    "        random_state=SEED,\n",
    "        strategy='stratified'\n",
    "    ), \n",
    "    'log_r': LogisticRegression(\n",
    "        class_weight='balanced',\n",
    "        max_iter=2000\n",
    "    ),\n",
    "    'knn': KNeighborsClassifier(\n",
    "        n_jobs=-2\n",
    "    ),\n",
    "    'svc': SVC(\n",
    "        random_state=SEED,\n",
    "        class_weight='balanced'\n",
    "    ), \n",
    "    'forest': RandomForestClassifier(\n",
    "        random_state=SEED, \n",
    "        n_jobs=-2, \n",
    "        class_weight='balanced'\n",
    "    ),\n",
    "    'GB_clf': GradientBoostingClassifier(\n",
    "        random_state=SEED\n",
    "    ), \n",
    "    'ada': AdaBoostClassifier(\n",
    "        random_state=SEED\n",
    "    ),\n",
    "    'xgb': xgb.XGBClassifier(\n",
    "        random_state=SEED,\n",
    "        scale_pos_weight=3\n",
    "    )\n",
    "}\n",
    "# A dictionary with the scoring methods for model evaluation.\n",
    "scoring = {'AUC': 'roc_auc',\n",
    "           'Accuracy': make_scorer(accuracy_score), \n",
    "           'Recall': make_scorer(recall_score), \n",
    "           'Precision': make_scorer(precision_score), \n",
    "           'F1': make_scorer(f1_score)}"
   ]
  },
  {
   "cell_type": "code",
   "execution_count": 78,
   "metadata": {
    "ExecuteTime": {
     "end_time": "2021-12-09T18:22:43.527350Z",
     "start_time": "2021-12-09T18:22:43.524127Z"
    }
   },
   "outputs": [],
   "source": [
    "screen_dict = {}\n",
    "\n",
    "def screen_model(clf, clf_dict, scoring, X, y):\n",
    "    \"\"\"Takes in the classifier key from the classifier dictionary, the classifier \n",
    "    dictionary, a scoring dictionary and an X and y and runs a 5-fold\n",
    "    cross_validation. The scores are reported and added to a dictionary.\"\"\"\n",
    "\n",
    "    clf_screen = {}\n",
    "    score = cross_validate(\n",
    "        clf_dict[clf], \n",
    "        X,\n",
    "        y,\n",
    "        scoring=scoring,\n",
    "        cv=5, \n",
    "        return_train_score=True, \n",
    "        n_jobs=-2\n",
    "    )\n",
    "    for k,v in score.items(): \n",
    "        clf_screen[f'{k} mean'] = v.mean() \n",
    "        clf_screen[f'{k} std'] = v.std()\n",
    "        screen_dict[clf] = clf_screen \n",
    "    return screen_dict[clf]"
   ]
  },
  {
   "cell_type": "code",
   "execution_count": 79,
   "metadata": {
    "ExecuteTime": {
     "end_time": "2021-12-09T18:22:43.532228Z",
     "start_time": "2021-12-09T18:22:43.528872Z"
    }
   },
   "outputs": [],
   "source": [
    "report_dict = {}\n",
    "\n",
    "def get_pred(clf, clf_dict, X_train, y_train, X_val, y_val):\n",
    "    \"\"\"Takes in a classifier, the classifier dictionary, the train and \n",
    "    validation sets and returns the predicted y values on the validation set.\"\"\"\n",
    "    clf = clf_dict[clf]\n",
    "    clf.fit(X_train, y_train)\n",
    "    y_val_pred = clf.predict(X_val)\n",
    "    return y_val_pred\n",
    "\n",
    "def get_report(clf, clf_dict, X_train, y_train, X_val, y_val):\n",
    "    \"\"\"Takes in a classifier, the classifier dictionary, the train and \n",
    "    validation sets and returns the classifation report for the validation set.\"\"\"\n",
    "    y_val_pred = get_pred(clf, clf_dict, X_train, y_train, X_val, y_val) \n",
    "    report = classification_report(y_val, y_val_pred, output_dict=True) \n",
    "    report_dict[clf] = report\n",
    "    report = pd.DataFrame(report).T\n",
    "    return report"
   ]
  },
  {
   "cell_type": "code",
   "execution_count": 80,
   "metadata": {
    "ExecuteTime": {
     "end_time": "2021-12-09T18:22:44.811916Z",
     "start_time": "2021-12-09T18:22:43.533705Z"
    }
   },
   "outputs": [
    {
     "data": {
      "text/plain": [
       "{'fit_time mean': 0.0015225887298583984,\n",
       " 'fit_time std': 0.00018860018175532236,\n",
       " 'score_time mean': 0.007120800018310547,\n",
       " 'score_time std': 0.0007891593080030176,\n",
       " 'test_AUC mean': 0.501431479597356,\n",
       " 'test_AUC std': 0.011260595222579708,\n",
       " 'train_AUC mean': 0.503333406813998,\n",
       " 'train_AUC std': 0.0024549648952175433,\n",
       " 'test_Accuracy mean': 0.6196754563894523,\n",
       " 'test_Accuracy std': 0.0087480156806685,\n",
       " 'train_Accuracy mean': 0.6221095334685598,\n",
       " 'train_Accuracy std': 0.001961367099981125,\n",
       " 'test_Recall mean': 0.2552589980544747,\n",
       " 'test_Recall std': 0.016324628844837718,\n",
       " 'train_Recall mean': 0.2560503048780488,\n",
       " 'train_Recall std': 0.003546664831182556,\n",
       " 'test_Precision mean': 0.26204516129032257,\n",
       " 'test_Precision std': 0.017293158169024454,\n",
       " 'train_Precision mean': 0.2649448273326334,\n",
       " 'train_Precision std': 0.00372894293369556,\n",
       " 'test_F1 mean': 0.2586060345164951,\n",
       " 'test_F1 std': 0.016787831807429543,\n",
       " 'train_F1 mean': 0.2604215973997286,\n",
       " 'train_F1 std': 0.003634254982548072}"
      ]
     },
     "execution_count": 80,
     "metadata": {},
     "output_type": "execute_result"
    }
   ],
   "source": [
    "baseline = screen_model('baseline', clf_dict, scoring, X_train_processed_df, y_train) \n",
    "screen_dict['baseline'] = baseline\n",
    "screen_dict['baseline']"
   ]
  },
  {
   "cell_type": "code",
   "execution_count": 81,
   "metadata": {
    "ExecuteTime": {
     "end_time": "2021-12-09T18:22:45.518539Z",
     "start_time": "2021-12-09T18:22:44.815075Z"
    }
   },
   "outputs": [
    {
     "data": {
      "text/plain": [
       "{'fit_time mean': 0.030220174789428712,\n",
       " 'fit_time std': 0.0055597163652546305,\n",
       " 'score_time mean': 0.009377145767211914,\n",
       " 'score_time std': 0.002193083953220626,\n",
       " 'test_AUC mean': 0.8505460688257219,\n",
       " 'test_AUC std': 0.015825272575848606,\n",
       " 'train_AUC mean': 0.8539449858504249,\n",
       " 'train_AUC std': 0.003944770975975612,\n",
       " 'test_Accuracy mean': 0.7549695740365112,\n",
       " 'test_Accuracy std': 0.0140326414250937,\n",
       " 'train_Accuracy mean': 0.7575050709939148,\n",
       " 'train_Accuracy std': 0.004615997382444357,\n",
       " 'test_Recall mean': 0.7986107733463035,\n",
       " 'test_Recall std': 0.04017342249937112,\n",
       " 'train_Recall mean': 0.7997654344512195,\n",
       " 'train_Recall std': 0.0070292723625875065,\n",
       " 'test_Precision mean': 0.5184857146155795,\n",
       " 'test_Precision std': 0.017789242302288788,\n",
       " 'train_Precision mean': 0.5217981357990397,\n",
       " 'train_Precision std': 0.005922882472317401,\n",
       " 'test_F1 mean': 0.6285579997603579,\n",
       " 'test_F1 std': 0.02330015848430075,\n",
       " 'train_F1 mean': 0.6315416643282803,\n",
       " 'train_F1 std': 0.00620305315672292}"
      ]
     },
     "execution_count": 81,
     "metadata": {},
     "output_type": "execute_result"
    }
   ],
   "source": [
    "log_r_file = 'files/log_r.pk1'\n",
    "if 'log_r.pk1' in os.listdir('files'):\n",
    "    log_r = joblib.load(log_r_file) \n",
    "else:\n",
    "    log_r = screen_model('log_r', clf_dict,\n",
    "                         scoring,\n",
    "                         X_train_processed_df,\n",
    "                         y_train)\n",
    "    joblib.dump(log_r, log_r_file) \n",
    "screen_dict['log_r'] = log_r \n",
    "screen_dict['log_r']"
   ]
  },
  {
   "cell_type": "code",
   "execution_count": 82,
   "metadata": {
    "ExecuteTime": {
     "end_time": "2021-12-09T18:22:45.566188Z",
     "start_time": "2021-12-09T18:22:45.520847Z"
    }
   },
   "outputs": [
    {
     "data": {
      "text/html": [
       "<div>\n",
       "<style scoped>\n",
       "    .dataframe tbody tr th:only-of-type {\n",
       "        vertical-align: middle;\n",
       "    }\n",
       "\n",
       "    .dataframe tbody tr th {\n",
       "        vertical-align: top;\n",
       "    }\n",
       "\n",
       "    .dataframe thead th {\n",
       "        text-align: right;\n",
       "    }\n",
       "</style>\n",
       "<table border=\"1\" class=\"dataframe\">\n",
       "  <thead>\n",
       "    <tr style=\"text-align: right;\">\n",
       "      <th></th>\n",
       "      <th>precision</th>\n",
       "      <th>recall</th>\n",
       "      <th>f1-score</th>\n",
       "      <th>support</th>\n",
       "    </tr>\n",
       "  </thead>\n",
       "  <tbody>\n",
       "    <tr>\n",
       "      <th>0</th>\n",
       "      <td>0.907131</td>\n",
       "      <td>0.725464</td>\n",
       "      <td>0.806190</td>\n",
       "      <td>754.000000</td>\n",
       "    </tr>\n",
       "    <tr>\n",
       "      <th>1</th>\n",
       "      <td>0.543046</td>\n",
       "      <td>0.814570</td>\n",
       "      <td>0.651656</td>\n",
       "      <td>302.000000</td>\n",
       "    </tr>\n",
       "    <tr>\n",
       "      <th>accuracy</th>\n",
       "      <td>0.750947</td>\n",
       "      <td>0.750947</td>\n",
       "      <td>0.750947</td>\n",
       "      <td>0.750947</td>\n",
       "    </tr>\n",
       "    <tr>\n",
       "      <th>macro avg</th>\n",
       "      <td>0.725089</td>\n",
       "      <td>0.770017</td>\n",
       "      <td>0.728923</td>\n",
       "      <td>1056.000000</td>\n",
       "    </tr>\n",
       "    <tr>\n",
       "      <th>weighted avg</th>\n",
       "      <td>0.803008</td>\n",
       "      <td>0.750947</td>\n",
       "      <td>0.761996</td>\n",
       "      <td>1056.000000</td>\n",
       "    </tr>\n",
       "  </tbody>\n",
       "</table>\n",
       "</div>"
      ],
      "text/plain": [
       "              precision    recall  f1-score      support\n",
       "0              0.907131  0.725464  0.806190   754.000000\n",
       "1              0.543046  0.814570  0.651656   302.000000\n",
       "accuracy       0.750947  0.750947  0.750947     0.750947\n",
       "macro avg      0.725089  0.770017  0.728923  1056.000000\n",
       "weighted avg   0.803008  0.750947  0.761996  1056.000000"
      ]
     },
     "execution_count": 82,
     "metadata": {},
     "output_type": "execute_result"
    }
   ],
   "source": [
    "log_r_report = get_report('log_r', clf_dict,\n",
    "           X_train_processed_df,\n",
    "           y_train,\n",
    "           X_val_processed_df,\n",
    "           y_val)\n",
    "log_r_report"
   ]
  },
  {
   "cell_type": "code",
   "execution_count": 83,
   "metadata": {
    "ExecuteTime": {
     "end_time": "2021-12-09T18:22:47.192998Z",
     "start_time": "2021-12-09T18:22:45.568217Z"
    }
   },
   "outputs": [
    {
     "data": {
      "text/plain": [
       "{'fit_time mean': 0.022034406661987305,\n",
       " 'fit_time std': 0.014843465603375499,\n",
       " 'score_time mean': 0.20246191024780275,\n",
       " 'score_time std': 0.07244375490584415,\n",
       " 'test_AUC mean': 0.7667874358502773,\n",
       " 'test_AUC std': 0.014339190567669557,\n",
       " 'train_AUC mean': 0.8983204906399983,\n",
       " 'train_AUC std': 0.0023698492325220154,\n",
       " 'test_Accuracy mean': 0.7531440162271805,\n",
       " 'test_Accuracy std': 0.009152546996088015,\n",
       " 'train_Accuracy mean': 0.8377281947261663,\n",
       " 'train_Accuracy std': 0.0013979765468651376,\n",
       " 'test_Recall mean': 0.45512220330739306,\n",
       " 'test_Recall std': 0.015195666487824985,\n",
       " 'train_Recall mean': 0.6188513719512196,\n",
       " 'train_Recall std': 0.008454616399516217,\n",
       " 'test_Precision mean': 0.5295564137239628,\n",
       " 'test_Precision std': 0.020812641951424155,\n",
       " 'train_Precision mean': 0.7178859019684718,\n",
       " 'train_Precision std': 0.006940869986975635,\n",
       " 'test_F1 mean': 0.489344814553135,\n",
       " 'test_F1 std': 0.015127097186036918,\n",
       " 'train_F1 mean': 0.6646205355236984,\n",
       " 'train_F1 std': 0.003137942499456026}"
      ]
     },
     "execution_count": 83,
     "metadata": {},
     "output_type": "execute_result"
    }
   ],
   "source": [
    "knn_file = 'files/knn.pk1'\n",
    "if 'knn.pk1' in os.listdir('files'):\n",
    "    knn = joblib.load(knn_file) \n",
    "else:\n",
    "    knn = screen_model('knn', \n",
    "                       clf_dict,\n",
    "                       scoring,\n",
    "                       X_train_processed_df,\n",
    "                       y_train\n",
    "                      )\n",
    "    joblib.dump(knn, knn_file) \n",
    "screen_dict['knn'] = knn \n",
    "screen_dict['knn']"
   ]
  },
  {
   "cell_type": "code",
   "execution_count": 84,
   "metadata": {
    "ExecuteTime": {
     "end_time": "2021-12-09T18:22:47.291138Z",
     "start_time": "2021-12-09T18:22:47.194775Z"
    }
   },
   "outputs": [
    {
     "data": {
      "text/html": [
       "<div>\n",
       "<style scoped>\n",
       "    .dataframe tbody tr th:only-of-type {\n",
       "        vertical-align: middle;\n",
       "    }\n",
       "\n",
       "    .dataframe tbody tr th {\n",
       "        vertical-align: top;\n",
       "    }\n",
       "\n",
       "    .dataframe thead th {\n",
       "        text-align: right;\n",
       "    }\n",
       "</style>\n",
       "<table border=\"1\" class=\"dataframe\">\n",
       "  <thead>\n",
       "    <tr style=\"text-align: right;\">\n",
       "      <th></th>\n",
       "      <th>precision</th>\n",
       "      <th>recall</th>\n",
       "      <th>f1-score</th>\n",
       "      <th>support</th>\n",
       "    </tr>\n",
       "  </thead>\n",
       "  <tbody>\n",
       "    <tr>\n",
       "      <th>0</th>\n",
       "      <td>0.814446</td>\n",
       "      <td>0.867374</td>\n",
       "      <td>0.840077</td>\n",
       "      <td>754.000000</td>\n",
       "    </tr>\n",
       "    <tr>\n",
       "      <th>1</th>\n",
       "      <td>0.604743</td>\n",
       "      <td>0.506623</td>\n",
       "      <td>0.551351</td>\n",
       "      <td>302.000000</td>\n",
       "    </tr>\n",
       "    <tr>\n",
       "      <th>accuracy</th>\n",
       "      <td>0.764205</td>\n",
       "      <td>0.764205</td>\n",
       "      <td>0.764205</td>\n",
       "      <td>0.764205</td>\n",
       "    </tr>\n",
       "    <tr>\n",
       "      <th>macro avg</th>\n",
       "      <td>0.709594</td>\n",
       "      <td>0.686998</td>\n",
       "      <td>0.695714</td>\n",
       "      <td>1056.000000</td>\n",
       "    </tr>\n",
       "    <tr>\n",
       "      <th>weighted avg</th>\n",
       "      <td>0.754474</td>\n",
       "      <td>0.764205</td>\n",
       "      <td>0.757506</td>\n",
       "      <td>1056.000000</td>\n",
       "    </tr>\n",
       "  </tbody>\n",
       "</table>\n",
       "</div>"
      ],
      "text/plain": [
       "              precision    recall  f1-score      support\n",
       "0              0.814446  0.867374  0.840077   754.000000\n",
       "1              0.604743  0.506623  0.551351   302.000000\n",
       "accuracy       0.764205  0.764205  0.764205     0.764205\n",
       "macro avg      0.709594  0.686998  0.695714  1056.000000\n",
       "weighted avg   0.754474  0.764205  0.757506  1056.000000"
      ]
     },
     "execution_count": 84,
     "metadata": {},
     "output_type": "execute_result"
    }
   ],
   "source": [
    "knn_report = get_report(\n",
    "    'knn', \n",
    "    clf_dict,\n",
    "    X_train_processed_df,\n",
    "    y_train,\n",
    "    X_val_processed_df,\n",
    "    y_val\n",
    ")\n",
    "\n",
    "knn_report"
   ]
  },
  {
   "cell_type": "code",
   "execution_count": 85,
   "metadata": {
    "ExecuteTime": {
     "end_time": "2021-12-09T18:22:48.548341Z",
     "start_time": "2021-12-09T18:22:47.293726Z"
    }
   },
   "outputs": [
    {
     "data": {
      "text/plain": [
       "{'fit_time mean': 0.6012678146362305,\n",
       " 'fit_time std': 0.007305481202043072,\n",
       " 'score_time mean': 0.13319621086120606,\n",
       " 'score_time std': 0.0027435747569382234,\n",
       " 'test_AUC mean': 0.8387668610958114,\n",
       " 'test_AUC std': 0.015949473218888476,\n",
       " 'train_AUC mean': 0.8824738358295289,\n",
       " 'train_AUC std': 0.002291615552102933,\n",
       " 'test_Accuracy mean': 0.7494929006085193,\n",
       " 'test_Accuracy std': 0.019178818099103934,\n",
       " 'train_Accuracy mean': 0.7781947261663286,\n",
       " 'train_Accuracy std': 0.004095906796411504,\n",
       " 'test_Recall mean': 0.7923546935797665,\n",
       " 'test_Recall std': 0.041782861678647545,\n",
       " 'train_Recall mean': 0.8411406249999999,\n",
       " 'train_Recall std': 0.00791793477445614,\n",
       " 'test_Precision mean': 0.512014774799841,\n",
       " 'test_Precision std': 0.02356178489459566,\n",
       " 'train_Precision mean': 0.5477225541775809,\n",
       " 'train_Precision std': 0.005644736458870756,\n",
       " 'test_F1 mean': 0.6217267816823613,\n",
       " 'test_F1 std': 0.026676514506340374,\n",
       " 'train_F1 mean': 0.6633978184005569,\n",
       " 'train_F1 std': 0.004241540570036403}"
      ]
     },
     "execution_count": 85,
     "metadata": {},
     "output_type": "execute_result"
    }
   ],
   "source": [
    "svc_file = 'files/svc.pk1'\n",
    "if 'svc.pk1' in os.listdir('files'):\n",
    "    svc = joblib.load(svc_file) \n",
    "else:\n",
    "    svc = screen_model('svc', \n",
    "                       clf_dict, \n",
    "                       scoring,\n",
    "                       X_train_processed_df,\n",
    "                       y_train\n",
    "                      )\n",
    "    joblib.dump(svc, svc_file) \n",
    "screen_dict['svc'] = svc \n",
    "screen_dict['svc']"
   ]
  },
  {
   "cell_type": "code",
   "execution_count": 86,
   "metadata": {
    "ExecuteTime": {
     "end_time": "2021-12-09T18:22:49.242768Z",
     "start_time": "2021-12-09T18:22:48.550674Z"
    }
   },
   "outputs": [
    {
     "data": {
      "text/html": [
       "<div>\n",
       "<style scoped>\n",
       "    .dataframe tbody tr th:only-of-type {\n",
       "        vertical-align: middle;\n",
       "    }\n",
       "\n",
       "    .dataframe tbody tr th {\n",
       "        vertical-align: top;\n",
       "    }\n",
       "\n",
       "    .dataframe thead th {\n",
       "        text-align: right;\n",
       "    }\n",
       "</style>\n",
       "<table border=\"1\" class=\"dataframe\">\n",
       "  <thead>\n",
       "    <tr style=\"text-align: right;\">\n",
       "      <th></th>\n",
       "      <th>precision</th>\n",
       "      <th>recall</th>\n",
       "      <th>f1-score</th>\n",
       "      <th>support</th>\n",
       "    </tr>\n",
       "  </thead>\n",
       "  <tbody>\n",
       "    <tr>\n",
       "      <th>0</th>\n",
       "      <td>0.910473</td>\n",
       "      <td>0.714854</td>\n",
       "      <td>0.800892</td>\n",
       "      <td>754.000000</td>\n",
       "    </tr>\n",
       "    <tr>\n",
       "      <th>1</th>\n",
       "      <td>0.536638</td>\n",
       "      <td>0.824503</td>\n",
       "      <td>0.650131</td>\n",
       "      <td>302.000000</td>\n",
       "    </tr>\n",
       "    <tr>\n",
       "      <th>accuracy</th>\n",
       "      <td>0.746212</td>\n",
       "      <td>0.746212</td>\n",
       "      <td>0.746212</td>\n",
       "      <td>0.746212</td>\n",
       "    </tr>\n",
       "    <tr>\n",
       "      <th>macro avg</th>\n",
       "      <td>0.723555</td>\n",
       "      <td>0.769679</td>\n",
       "      <td>0.725511</td>\n",
       "      <td>1056.000000</td>\n",
       "    </tr>\n",
       "    <tr>\n",
       "      <th>weighted avg</th>\n",
       "      <td>0.803562</td>\n",
       "      <td>0.746212</td>\n",
       "      <td>0.757776</td>\n",
       "      <td>1056.000000</td>\n",
       "    </tr>\n",
       "  </tbody>\n",
       "</table>\n",
       "</div>"
      ],
      "text/plain": [
       "              precision    recall  f1-score      support\n",
       "0              0.910473  0.714854  0.800892   754.000000\n",
       "1              0.536638  0.824503  0.650131   302.000000\n",
       "accuracy       0.746212  0.746212  0.746212     0.746212\n",
       "macro avg      0.723555  0.769679  0.725511  1056.000000\n",
       "weighted avg   0.803562  0.746212  0.757776  1056.000000"
      ]
     },
     "execution_count": 86,
     "metadata": {},
     "output_type": "execute_result"
    }
   ],
   "source": [
    "svc_report = get_report('svc', \n",
    "                        clf_dict,\n",
    "                        X_train_processed_df,\n",
    "                        y_train,\n",
    "                        X_val_processed_df,\n",
    "                        y_val\n",
    "                       )\n",
    "svc_report"
   ]
  },
  {
   "cell_type": "code",
   "execution_count": 87,
   "metadata": {
    "ExecuteTime": {
     "end_time": "2021-12-09T18:22:49.964501Z",
     "start_time": "2021-12-09T18:22:49.244742Z"
    }
   },
   "outputs": [
    {
     "data": {
      "text/plain": [
       "{'fit_time mean': 0.4349065780639648,\n",
       " 'fit_time std': 0.027530453268756427,\n",
       " 'score_time mean': 0.0744412899017334,\n",
       " 'score_time std': 0.00949627203638639,\n",
       " 'test_AUC mean': 0.8346034544736041,\n",
       " 'test_AUC std': 0.015652713130610167,\n",
       " 'train_AUC mean': 1.0,\n",
       " 'train_AUC std': 4.965068306494546e-17,\n",
       " 'test_Accuracy mean': 0.7886409736308316,\n",
       " 'test_Accuracy std': 0.016030758465297577,\n",
       " 'train_Accuracy mean': 1.0,\n",
       " 'train_Accuracy std': 0.0,\n",
       " 'test_Recall mean': 0.4839980544747082,\n",
       " 'test_Recall std': 0.013094532798696948,\n",
       " 'train_Recall mean': 1.0,\n",
       " 'train_Recall std': 0.0,\n",
       " 'test_Precision mean': 0.6221701377013762,\n",
       " 'test_Precision std': 0.04501081182187248,\n",
       " 'train_Precision mean': 1.0,\n",
       " 'train_Precision std': 0.0,\n",
       " 'test_F1 mean': 0.54389728007215,\n",
       " 'test_F1 std': 0.02298198092572498,\n",
       " 'train_F1 mean': 1.0,\n",
       " 'train_F1 std': 0.0}"
      ]
     },
     "execution_count": 87,
     "metadata": {},
     "output_type": "execute_result"
    }
   ],
   "source": [
    "forest_file = 'files/forest.pk1'\n",
    "if 'forest.pk1' in os.listdir('files'):\n",
    "    forest = joblib.load(forest_file) \n",
    "else:\n",
    "    forest = screen_model('forest', \n",
    "                         clf_dict,\n",
    "                         scoring,\n",
    "                         X_train_processed_df,\n",
    "                         y_train\n",
    "                         )\n",
    "    joblib.dump(forest, forest_file) \n",
    "screen_dict['forest'] = forest \n",
    "screen_dict['forest']"
   ]
  },
  {
   "cell_type": "code",
   "execution_count": 88,
   "metadata": {
    "ExecuteTime": {
     "end_time": "2021-12-09T18:22:50.215887Z",
     "start_time": "2021-12-09T18:22:49.966261Z"
    }
   },
   "outputs": [
    {
     "data": {
      "text/html": [
       "<div>\n",
       "<style scoped>\n",
       "    .dataframe tbody tr th:only-of-type {\n",
       "        vertical-align: middle;\n",
       "    }\n",
       "\n",
       "    .dataframe tbody tr th {\n",
       "        vertical-align: top;\n",
       "    }\n",
       "\n",
       "    .dataframe thead th {\n",
       "        text-align: right;\n",
       "    }\n",
       "</style>\n",
       "<table border=\"1\" class=\"dataframe\">\n",
       "  <thead>\n",
       "    <tr style=\"text-align: right;\">\n",
       "      <th></th>\n",
       "      <th>precision</th>\n",
       "      <th>recall</th>\n",
       "      <th>f1-score</th>\n",
       "      <th>support</th>\n",
       "    </tr>\n",
       "  </thead>\n",
       "  <tbody>\n",
       "    <tr>\n",
       "      <th>0</th>\n",
       "      <td>0.816766</td>\n",
       "      <td>0.904509</td>\n",
       "      <td>0.858402</td>\n",
       "      <td>754.000000</td>\n",
       "    </tr>\n",
       "    <tr>\n",
       "      <th>1</th>\n",
       "      <td>0.674208</td>\n",
       "      <td>0.493377</td>\n",
       "      <td>0.569790</td>\n",
       "      <td>302.000000</td>\n",
       "    </tr>\n",
       "    <tr>\n",
       "      <th>accuracy</th>\n",
       "      <td>0.786932</td>\n",
       "      <td>0.786932</td>\n",
       "      <td>0.786932</td>\n",
       "      <td>0.786932</td>\n",
       "    </tr>\n",
       "    <tr>\n",
       "      <th>macro avg</th>\n",
       "      <td>0.745487</td>\n",
       "      <td>0.698943</td>\n",
       "      <td>0.714096</td>\n",
       "      <td>1056.000000</td>\n",
       "    </tr>\n",
       "    <tr>\n",
       "      <th>weighted avg</th>\n",
       "      <td>0.775997</td>\n",
       "      <td>0.786932</td>\n",
       "      <td>0.775863</td>\n",
       "      <td>1056.000000</td>\n",
       "    </tr>\n",
       "  </tbody>\n",
       "</table>\n",
       "</div>"
      ],
      "text/plain": [
       "              precision    recall  f1-score      support\n",
       "0              0.816766  0.904509  0.858402   754.000000\n",
       "1              0.674208  0.493377  0.569790   302.000000\n",
       "accuracy       0.786932  0.786932  0.786932     0.786932\n",
       "macro avg      0.745487  0.698943  0.714096  1056.000000\n",
       "weighted avg   0.775997  0.786932  0.775863  1056.000000"
      ]
     },
     "execution_count": 88,
     "metadata": {},
     "output_type": "execute_result"
    }
   ],
   "source": [
    "forest_report = get_report('forest', \n",
    "                           clf_dict,\n",
    "                           X_train_processed_df,\n",
    "                           y_train,\n",
    "                           X_val_processed_df,\n",
    "                           y_val\n",
    "                          )\n",
    "\n",
    "forest_report"
   ]
  },
  {
   "cell_type": "code",
   "execution_count": 89,
   "metadata": {
    "ExecuteTime": {
     "end_time": "2021-12-09T18:22:50.955936Z",
     "start_time": "2021-12-09T18:22:50.217609Z"
    }
   },
   "outputs": [
    {
     "data": {
      "text/plain": [
       "{'fit_time mean': 0.6582337856292725,\n",
       " 'fit_time std': 0.002698031265982457,\n",
       " 'score_time mean': 0.012025976181030273,\n",
       " 'score_time std': 0.001078414453142712,\n",
       " 'test_AUC mean': 0.8540753237638764,\n",
       " 'test_AUC std': 0.014381830505513048,\n",
       " 'train_AUC mean': 0.8974658229231484,\n",
       " 'train_AUC std': 0.0020400263270985296,\n",
       " 'test_Accuracy mean': 0.8006085192697769,\n",
       " 'test_Accuracy std': 0.012180523161056741,\n",
       " 'train_Accuracy mean': 0.8397058823529411,\n",
       " 'train_Accuracy std': 0.002975943357225397,\n",
       " 'test_Recall mean': 0.5167831955252918,\n",
       " 'test_Recall std': 0.024003150820941857,\n",
       " 'train_Recall mean': 0.596016768292683,\n",
       " 'train_Recall std': 0.017725078282869428,\n",
       " 'test_Precision mean': 0.6461404441535533,\n",
       " 'test_Precision std': 0.032224654334884695,\n",
       " 'train_Precision mean': 0.7368292924462144,\n",
       " 'train_Precision std': 0.004021749307230873,\n",
       " 'test_F1 mean': 0.5739166324632927,\n",
       " 'test_F1 std': 0.023916836218598816,\n",
       " 'train_F1 mean': 0.6588295190395028,\n",
       " 'train_F1 std': 0.0106087673351679}"
      ]
     },
     "execution_count": 89,
     "metadata": {},
     "output_type": "execute_result"
    }
   ],
   "source": [
    "GB_clf_file = 'files/GB_clf.pk1'\n",
    "if 'GB_clf.pk1' in os.listdir('files'):\n",
    "    GB_clf = joblib.load(GB_clf_file) \n",
    "else:\n",
    "    GB_clf = screen_model('GB_clf', \n",
    "                          clf_dict,\n",
    "                          scoring,\n",
    "                          X_train_processed_df,\n",
    "                          y_train\n",
    "                         )\n",
    "    joblib.dump(GB_clf, GB_clf_file) \n",
    "screen_dict['GB_clf'] = GB_clf \n",
    "screen_dict['GB_clf']"
   ]
  },
  {
   "cell_type": "code",
   "execution_count": 90,
   "metadata": {
    "ExecuteTime": {
     "end_time": "2021-12-09T18:22:51.602772Z",
     "start_time": "2021-12-09T18:22:50.958096Z"
    }
   },
   "outputs": [
    {
     "data": {
      "text/html": [
       "<div>\n",
       "<style scoped>\n",
       "    .dataframe tbody tr th:only-of-type {\n",
       "        vertical-align: middle;\n",
       "    }\n",
       "\n",
       "    .dataframe tbody tr th {\n",
       "        vertical-align: top;\n",
       "    }\n",
       "\n",
       "    .dataframe thead th {\n",
       "        text-align: right;\n",
       "    }\n",
       "</style>\n",
       "<table border=\"1\" class=\"dataframe\">\n",
       "  <thead>\n",
       "    <tr style=\"text-align: right;\">\n",
       "      <th></th>\n",
       "      <th>precision</th>\n",
       "      <th>recall</th>\n",
       "      <th>f1-score</th>\n",
       "      <th>support</th>\n",
       "    </tr>\n",
       "  </thead>\n",
       "  <tbody>\n",
       "    <tr>\n",
       "      <th>0</th>\n",
       "      <td>0.844893</td>\n",
       "      <td>0.888594</td>\n",
       "      <td>0.866193</td>\n",
       "      <td>754.000000</td>\n",
       "    </tr>\n",
       "    <tr>\n",
       "      <th>1</th>\n",
       "      <td>0.680608</td>\n",
       "      <td>0.592715</td>\n",
       "      <td>0.633628</td>\n",
       "      <td>302.000000</td>\n",
       "    </tr>\n",
       "    <tr>\n",
       "      <th>accuracy</th>\n",
       "      <td>0.803977</td>\n",
       "      <td>0.803977</td>\n",
       "      <td>0.803977</td>\n",
       "      <td>0.803977</td>\n",
       "    </tr>\n",
       "    <tr>\n",
       "      <th>macro avg</th>\n",
       "      <td>0.762751</td>\n",
       "      <td>0.740655</td>\n",
       "      <td>0.749910</td>\n",
       "      <td>1056.000000</td>\n",
       "    </tr>\n",
       "    <tr>\n",
       "      <th>weighted avg</th>\n",
       "      <td>0.797910</td>\n",
       "      <td>0.803977</td>\n",
       "      <td>0.799683</td>\n",
       "      <td>1056.000000</td>\n",
       "    </tr>\n",
       "  </tbody>\n",
       "</table>\n",
       "</div>"
      ],
      "text/plain": [
       "              precision    recall  f1-score      support\n",
       "0              0.844893  0.888594  0.866193   754.000000\n",
       "1              0.680608  0.592715  0.633628   302.000000\n",
       "accuracy       0.803977  0.803977  0.803977     0.803977\n",
       "macro avg      0.762751  0.740655  0.749910  1056.000000\n",
       "weighted avg   0.797910  0.803977  0.799683  1056.000000"
      ]
     },
     "execution_count": 90,
     "metadata": {},
     "output_type": "execute_result"
    }
   ],
   "source": [
    "gb_report = get_report('GB_clf', \n",
    "                       clf_dict,\n",
    "                       X_train_processed_df,\n",
    "                       y_train,\n",
    "                       X_val_processed_df,\n",
    "                       y_val\n",
    "                      )\n",
    "\n",
    "gb_report"
   ]
  },
  {
   "cell_type": "code",
   "execution_count": 91,
   "metadata": {
    "ExecuteTime": {
     "end_time": "2021-12-09T18:22:51.978041Z",
     "start_time": "2021-12-09T18:22:51.604240Z"
    }
   },
   "outputs": [
    {
     "data": {
      "text/plain": [
       "{'fit_time mean': 0.20811071395874023,\n",
       " 'fit_time std': 0.004205044730990562,\n",
       " 'score_time mean': 0.04150171279907226,\n",
       " 'score_time std': 0.0016368734561016671,\n",
       " 'test_AUC mean': 0.8478455812439144,\n",
       " 'test_AUC std': 0.016604309970507353,\n",
       " 'train_AUC mean': 0.8685370139384189,\n",
       " 'train_AUC std': 0.0035775183382384984,\n",
       " 'test_Accuracy mean': 0.8032454361054766,\n",
       " 'test_Accuracy std': 0.0136822896178824,\n",
       " 'train_Accuracy mean': 0.8154158215010142,\n",
       " 'train_Accuracy std': 0.004116572767262141,\n",
       " 'test_Recall mean': 0.5558183365758754,\n",
       " 'test_Recall std': 0.036220280708082545,\n",
       " 'train_Recall mean': 0.5772818216463416,\n",
       " 'train_Recall std': 0.010948295435383839,\n",
       " 'test_Precision mean': 0.6395879941451506,\n",
       " 'test_Precision std': 0.028329916816710456,\n",
       " 'train_Precision mean': 0.66743526536226,\n",
       " 'train_Precision std': 0.009113562226952346,\n",
       " 'test_F1 mean': 0.5944994283245008,\n",
       " 'test_F1 std': 0.031253355218434,\n",
       " 'train_F1 mean': 0.6190595194075231,\n",
       " 'train_F1 std': 0.009276248742917308}"
      ]
     },
     "execution_count": 91,
     "metadata": {},
     "output_type": "execute_result"
    }
   ],
   "source": [
    "ada_file = 'files/ada.pk1'\n",
    "if 'ada.pk1' in os.listdir('files'):\n",
    "    ada = joblib.load(ada_file) \n",
    "else:\n",
    "    ada = screen_model('ada', \n",
    "                       clf_dict,\n",
    "                       scoring,\n",
    "                       X_train_processed_df,\n",
    "                       y_train\n",
    "                      )\n",
    "    joblib.dump(ada, ada_file) \n",
    "screen_dict['ada'] = ada \n",
    "screen_dict['ada']"
   ]
  },
  {
   "cell_type": "code",
   "execution_count": 92,
   "metadata": {
    "ExecuteTime": {
     "end_time": "2021-12-09T18:22:52.213290Z",
     "start_time": "2021-12-09T18:22:51.980225Z"
    }
   },
   "outputs": [
    {
     "data": {
      "text/html": [
       "<div>\n",
       "<style scoped>\n",
       "    .dataframe tbody tr th:only-of-type {\n",
       "        vertical-align: middle;\n",
       "    }\n",
       "\n",
       "    .dataframe tbody tr th {\n",
       "        vertical-align: top;\n",
       "    }\n",
       "\n",
       "    .dataframe thead th {\n",
       "        text-align: right;\n",
       "    }\n",
       "</style>\n",
       "<table border=\"1\" class=\"dataframe\">\n",
       "  <thead>\n",
       "    <tr style=\"text-align: right;\">\n",
       "      <th></th>\n",
       "      <th>precision</th>\n",
       "      <th>recall</th>\n",
       "      <th>f1-score</th>\n",
       "      <th>support</th>\n",
       "    </tr>\n",
       "  </thead>\n",
       "  <tbody>\n",
       "    <tr>\n",
       "      <th>0</th>\n",
       "      <td>0.846447</td>\n",
       "      <td>0.884615</td>\n",
       "      <td>0.865110</td>\n",
       "      <td>754.00000</td>\n",
       "    </tr>\n",
       "    <tr>\n",
       "      <th>1</th>\n",
       "      <td>0.675373</td>\n",
       "      <td>0.599338</td>\n",
       "      <td>0.635088</td>\n",
       "      <td>302.00000</td>\n",
       "    </tr>\n",
       "    <tr>\n",
       "      <th>accuracy</th>\n",
       "      <td>0.803030</td>\n",
       "      <td>0.803030</td>\n",
       "      <td>0.803030</td>\n",
       "      <td>0.80303</td>\n",
       "    </tr>\n",
       "    <tr>\n",
       "      <th>macro avg</th>\n",
       "      <td>0.760910</td>\n",
       "      <td>0.741977</td>\n",
       "      <td>0.750099</td>\n",
       "      <td>1056.00000</td>\n",
       "    </tr>\n",
       "    <tr>\n",
       "      <th>weighted avg</th>\n",
       "      <td>0.797522</td>\n",
       "      <td>0.803030</td>\n",
       "      <td>0.799327</td>\n",
       "      <td>1056.00000</td>\n",
       "    </tr>\n",
       "  </tbody>\n",
       "</table>\n",
       "</div>"
      ],
      "text/plain": [
       "              precision    recall  f1-score     support\n",
       "0              0.846447  0.884615  0.865110   754.00000\n",
       "1              0.675373  0.599338  0.635088   302.00000\n",
       "accuracy       0.803030  0.803030  0.803030     0.80303\n",
       "macro avg      0.760910  0.741977  0.750099  1056.00000\n",
       "weighted avg   0.797522  0.803030  0.799327  1056.00000"
      ]
     },
     "execution_count": 92,
     "metadata": {},
     "output_type": "execute_result"
    }
   ],
   "source": [
    "ada_report = get_report('ada', \n",
    "                        clf_dict,\n",
    "                        X_train_processed_df,\n",
    "                        y_train,\n",
    "                        X_val_processed_df,\n",
    "                        y_val\n",
    "                       )\n",
    "\n",
    "ada_report"
   ]
  },
  {
   "cell_type": "code",
   "execution_count": 93,
   "metadata": {
    "ExecuteTime": {
     "end_time": "2021-12-09T18:22:53.076566Z",
     "start_time": "2021-12-09T18:22:52.215402Z"
    }
   },
   "outputs": [
    {
     "data": {
      "text/plain": [
       "{'fit_time mean': 0.7053615570068359,\n",
       " 'fit_time std': 0.013122415632270387,\n",
       " 'score_time mean': 0.02115473747253418,\n",
       " 'score_time std': 0.0010001431611460175,\n",
       " 'test_AUC mean': 0.8274329328245855,\n",
       " 'test_AUC std': 0.015496650082323909,\n",
       " 'train_AUC mean': 0.9993380227836937,\n",
       " 'train_AUC std': 0.0002759679397072507,\n",
       " 'test_Accuracy mean': 0.7663286004056795,\n",
       " 'test_Accuracy std': 0.01532212370630526,\n",
       " 'train_Accuracy mean': 0.9697261663286005,\n",
       " 'train_Accuracy std': 0.0036588547682652158,\n",
       " 'test_Recall mean': 0.6338916585603113,\n",
       " 'test_Recall std': 0.018953422307224962,\n",
       " 'train_Recall mean': 0.9998048780487805,\n",
       " 'train_Recall std': 0.00039024390243902474,\n",
       " 'test_Precision mean': 0.5440589426824415,\n",
       " 'test_Precision std': 0.026058802702591293,\n",
       " 'train_Precision mean': 0.8959286085375489,\n",
       " 'train_Precision std': 0.011369992272608386,\n",
       " 'test_F1 mean': 0.5852745746456564,\n",
       " 'test_F1 std': 0.02033065786650386,\n",
       " 'train_F1 mean': 0.9449822327887963,\n",
       " 'train_F1 std': 0.006291982792357827}"
      ]
     },
     "execution_count": 93,
     "metadata": {},
     "output_type": "execute_result"
    }
   ],
   "source": [
    "xgb_file = 'files/xgb.pk1'\n",
    "if 'xgb.pk1' in os.listdir('files'):\n",
    "    xgb = joblib.load(xgb_file) \n",
    "else:\n",
    "    xgb = screen_model('xgb', \n",
    "                       clf_dict,\n",
    "                    scoring,\n",
    "                    X_train_processed_df,\n",
    "                    y_train\n",
    "                      )\n",
    "    joblib.dump(xgb, xgb_file) \n",
    "screen_dict['xgb'] = xgb \n",
    "screen_dict['xgb']"
   ]
  },
  {
   "cell_type": "code",
   "execution_count": 94,
   "metadata": {
    "ExecuteTime": {
     "end_time": "2021-12-09T18:22:53.447422Z",
     "start_time": "2021-12-09T18:22:53.078556Z"
    }
   },
   "outputs": [
    {
     "data": {
      "text/html": [
       "<div>\n",
       "<style scoped>\n",
       "    .dataframe tbody tr th:only-of-type {\n",
       "        vertical-align: middle;\n",
       "    }\n",
       "\n",
       "    .dataframe tbody tr th {\n",
       "        vertical-align: top;\n",
       "    }\n",
       "\n",
       "    .dataframe thead th {\n",
       "        text-align: right;\n",
       "    }\n",
       "</style>\n",
       "<table border=\"1\" class=\"dataframe\">\n",
       "  <thead>\n",
       "    <tr style=\"text-align: right;\">\n",
       "      <th></th>\n",
       "      <th>precision</th>\n",
       "      <th>recall</th>\n",
       "      <th>f1-score</th>\n",
       "      <th>support</th>\n",
       "    </tr>\n",
       "  </thead>\n",
       "  <tbody>\n",
       "    <tr>\n",
       "      <th>0</th>\n",
       "      <td>0.869186</td>\n",
       "      <td>0.793103</td>\n",
       "      <td>0.829404</td>\n",
       "      <td>754.000000</td>\n",
       "    </tr>\n",
       "    <tr>\n",
       "      <th>1</th>\n",
       "      <td>0.576087</td>\n",
       "      <td>0.701987</td>\n",
       "      <td>0.632836</td>\n",
       "      <td>302.000000</td>\n",
       "    </tr>\n",
       "    <tr>\n",
       "      <th>accuracy</th>\n",
       "      <td>0.767045</td>\n",
       "      <td>0.767045</td>\n",
       "      <td>0.767045</td>\n",
       "      <td>0.767045</td>\n",
       "    </tr>\n",
       "    <tr>\n",
       "      <th>macro avg</th>\n",
       "      <td>0.722637</td>\n",
       "      <td>0.747545</td>\n",
       "      <td>0.731120</td>\n",
       "      <td>1056.000000</td>\n",
       "    </tr>\n",
       "    <tr>\n",
       "      <th>weighted avg</th>\n",
       "      <td>0.785364</td>\n",
       "      <td>0.767045</td>\n",
       "      <td>0.773188</td>\n",
       "      <td>1056.000000</td>\n",
       "    </tr>\n",
       "  </tbody>\n",
       "</table>\n",
       "</div>"
      ],
      "text/plain": [
       "              precision    recall  f1-score      support\n",
       "0              0.869186  0.793103  0.829404   754.000000\n",
       "1              0.576087  0.701987  0.632836   302.000000\n",
       "accuracy       0.767045  0.767045  0.767045     0.767045\n",
       "macro avg      0.722637  0.747545  0.731120  1056.000000\n",
       "weighted avg   0.785364  0.767045  0.773188  1056.000000"
      ]
     },
     "execution_count": 94,
     "metadata": {},
     "output_type": "execute_result"
    }
   ],
   "source": [
    "xgb_report = get_report('xgb', \n",
    "                        clf_dict,\n",
    "                        X_train_processed_df,\n",
    "                        y_train,\n",
    "                        X_val_processed_df,\n",
    "                        y_val\n",
    "                       )\n",
    "\n",
    "xgb_report"
   ]
  },
  {
   "cell_type": "code",
   "execution_count": 95,
   "metadata": {
    "ExecuteTime": {
     "end_time": "2021-12-09T18:22:53.454573Z",
     "start_time": "2021-12-09T18:22:53.449567Z"
    }
   },
   "outputs": [],
   "source": [
    "model_screen_df = pd.DataFrame(screen_dict).T"
   ]
  },
  {
   "cell_type": "code",
   "execution_count": 96,
   "metadata": {
    "ExecuteTime": {
     "end_time": "2021-12-09T18:22:53.672000Z",
     "start_time": "2021-12-09T18:22:53.456835Z"
    },
    "scrolled": false
   },
   "outputs": [
    {
     "data": {
      "image/png": "[encoded data removed]",
      "text/plain": [
       "<Figure size 432x288 with 1 Axes>"
      ]
     },
     "metadata": {
      "needs_background": "light"
     },
     "output_type": "display_data"
    }
   ],
   "source": [
    "model_screen_df[['train_Recall mean', 'test_Recall mean']].plot(kind='bar');"
   ]
  },
  {
   "cell_type": "markdown",
   "metadata": {},
   "source": [
    "Based on the results of the screening, logistic regression and SVC are performing the best overall. Not only are they showing less overfitting, they also performed well with the unbalanced classes, especially with recall. "
   ]
  },
  {
   "cell_type": "code",
   "execution_count": 97,
   "metadata": {
    "ExecuteTime": {
     "end_time": "2021-12-09T18:22:54.056109Z",
     "start_time": "2021-12-09T18:22:53.674037Z"
    }
   },
   "outputs": [
    {
     "data": {
      "text/html": [
       "<div>\n",
       "<style scoped>\n",
       "    .dataframe tbody tr th:only-of-type {\n",
       "        vertical-align: middle;\n",
       "    }\n",
       "\n",
       "    .dataframe tbody tr th {\n",
       "        vertical-align: top;\n",
       "    }\n",
       "\n",
       "    .dataframe thead th {\n",
       "        text-align: right;\n",
       "    }\n",
       "</style>\n",
       "<table border=\"1\" class=\"dataframe\">\n",
       "  <thead>\n",
       "    <tr style=\"text-align: right;\">\n",
       "      <th></th>\n",
       "      <th>0</th>\n",
       "      <th>1</th>\n",
       "    </tr>\n",
       "  </thead>\n",
       "  <tbody>\n",
       "    <tr>\n",
       "      <th>15</th>\n",
       "      <td>Contract_Month-to-month</td>\n",
       "      <td>0.437566</td>\n",
       "    </tr>\n",
       "    <tr>\n",
       "      <th>11</th>\n",
       "      <td>fiber</td>\n",
       "      <td>0.131756</td>\n",
       "    </tr>\n",
       "    <tr>\n",
       "      <th>5</th>\n",
       "      <td>Dependents</td>\n",
       "      <td>0.106642</td>\n",
       "    </tr>\n",
       "    <tr>\n",
       "      <th>17</th>\n",
       "      <td>Contract_Two year</td>\n",
       "      <td>0.050155</td>\n",
       "    </tr>\n",
       "    <tr>\n",
       "      <th>10</th>\n",
       "      <td>internet</td>\n",
       "      <td>0.040531</td>\n",
       "    </tr>\n",
       "    <tr>\n",
       "      <th>16</th>\n",
       "      <td>Contract_One year</td>\n",
       "      <td>0.037430</td>\n",
       "    </tr>\n",
       "    <tr>\n",
       "      <th>13</th>\n",
       "      <td>streaming</td>\n",
       "      <td>0.031018</td>\n",
       "    </tr>\n",
       "    <tr>\n",
       "      <th>6</th>\n",
       "      <td>Tenure Months</td>\n",
       "      <td>0.019475</td>\n",
       "    </tr>\n",
       "    <tr>\n",
       "      <th>7</th>\n",
       "      <td>Phone Service</td>\n",
       "      <td>0.018903</td>\n",
       "    </tr>\n",
       "    <tr>\n",
       "      <th>8</th>\n",
       "      <td>Multiple Lines</td>\n",
       "      <td>0.018874</td>\n",
       "    </tr>\n",
       "    <tr>\n",
       "      <th>12</th>\n",
       "      <td>extra</td>\n",
       "      <td>0.016064</td>\n",
       "    </tr>\n",
       "    <tr>\n",
       "      <th>9</th>\n",
       "      <td>Monthly Charges</td>\n",
       "      <td>0.015610</td>\n",
       "    </tr>\n",
       "    <tr>\n",
       "      <th>1</th>\n",
       "      <td>Longitude</td>\n",
       "      <td>0.013099</td>\n",
       "    </tr>\n",
       "    <tr>\n",
       "      <th>0</th>\n",
       "      <td>Latitude</td>\n",
       "      <td>0.012761</td>\n",
       "    </tr>\n",
       "    <tr>\n",
       "      <th>14</th>\n",
       "      <td>auto_payment</td>\n",
       "      <td>0.012622</td>\n",
       "    </tr>\n",
       "    <tr>\n",
       "      <th>2</th>\n",
       "      <td>Gender</td>\n",
       "      <td>0.012561</td>\n",
       "    </tr>\n",
       "    <tr>\n",
       "      <th>3</th>\n",
       "      <td>Senior Citizen</td>\n",
       "      <td>0.012560</td>\n",
       "    </tr>\n",
       "    <tr>\n",
       "      <th>4</th>\n",
       "      <td>Partner</td>\n",
       "      <td>0.012372</td>\n",
       "    </tr>\n",
       "  </tbody>\n",
       "</table>\n",
       "</div>"
      ],
      "text/plain": [
       "                          0         1\n",
       "15  Contract_Month-to-month  0.437566\n",
       "11                    fiber  0.131756\n",
       "5                Dependents  0.106642\n",
       "17        Contract_Two year  0.050155\n",
       "10                 internet  0.040531\n",
       "16        Contract_One year  0.037430\n",
       "13                streaming  0.031018\n",
       "6             Tenure Months  0.019475\n",
       "7             Phone Service  0.018903\n",
       "8            Multiple Lines  0.018874\n",
       "12                    extra  0.016064\n",
       "9           Monthly Charges  0.015610\n",
       "1                 Longitude  0.013099\n",
       "0                  Latitude  0.012761\n",
       "14             auto_payment  0.012622\n",
       "2                    Gender  0.012561\n",
       "3            Senior Citizen  0.012560\n",
       "4                   Partner  0.012372"
      ]
     },
     "execution_count": 97,
     "metadata": {},
     "output_type": "execute_result"
    }
   ],
   "source": [
    "#Examine feature importances from XGBoost\n",
    "xgb = clf_dict['xgb']\n",
    "xgb.fit(X_train_processed_df, y_train)\n",
    "pd.DataFrame(\n",
    "    list(\n",
    "        zip(\n",
    "            X_train_processed_df.columns, \n",
    "            xgb.feature_importances_\n",
    "        )\n",
    "    )\n",
    ").sort_values(\n",
    "    1, \n",
    "    ascending=False\n",
    ")"
   ]
  },
  {
   "cell_type": "markdown",
   "metadata": {
    "ExecuteTime": {
     "end_time": "2021-12-09T18:22:54.060680Z",
     "start_time": "2021-12-09T18:22:54.058333Z"
    }
   },
   "source": [
    "Based on the feature importances, all of the selected features carry some information. If overfitting remains a problem, I will consider reducing the features further. "
   ]
  },
  {
   "cell_type": "code",
   "execution_count": 100,
   "metadata": {
    "ExecuteTime": {
     "end_time": "2021-12-09T18:31:45.174944Z",
     "start_time": "2021-12-09T18:31:45.164054Z"
    }
   },
   "outputs": [],
   "source": [
    "#Hyperparameter grid for grid search\n",
    "hyperparameter_dict = { \n",
    "        'xgb': [{\n",
    "        'min_child_weight': [1, 5, 10],\n",
    "        'gamma': [0.5, 1, 1.5, 2, 5],\n",
    "        'subsample': [0.6, 0.8, 1.0],\n",
    "        'colsample_bytree': [0.6, 0.8, 1.0],\n",
    "        'max_depth': [3, 10, 15]\n",
    "}], \n",
    "    'svc': [{\n",
    "    'C': [.001, .01, .1, 1],\n",
    "    'gamma': [1,0.1,0.001]\n",
    "    }],\n",
    "    'log_r': [{\n",
    "        'penalty': ['l2', 'none'],\n",
    "        'C': [.001, .01, .1, 1] }]\n",
    "}\n",
    "\n",
    "def tune_model(clf, clf_dict, hyperparameter_dict, scoring, X,y):\n",
    "    \"\"\"Takes in the model's key from the clf dictionary, a classifier dictionary, \n",
    "    a hyperparameter dictionary, a scoring dictionary and and X\n",
    "     and y. A gridsearch is then performed using the\n",
    "    specified classifier and its associated hyperparameters from the\n",
    "    hyperparameter dictonary. After the model is fitted, a\n",
    "    GridSearchCV object is then returned.\"\"\"\n",
    "    model = GridSearchCV(clf_dict[clf], \n",
    "                         hyperparameter_dict[clf],\n",
    "                         cv=3,\n",
    "                         scoring=scoring,\n",
    "                         refit = 'Recall', \n",
    "                         return_train_score=True, \n",
    "                         n_jobs=-2, \n",
    "                         error_score=\"raise\"\n",
    "                        )                 \n",
    "    model.fit(X,y)\n",
    "    return model\n",
    "                         \n",
    "model_compare = {}\n",
    "    \n",
    "def score_model(model, clf):\n",
    "    \"\"\"Takes in a model and its key from the clf dictionary and returns\n",
    "    a dictionary with its scoring metrics. It also appends this dictionary \n",
    "    to the model_compare dictionary.\"\"\"\n",
    "    model_eval_dict = {}\n",
    "    model_eval_dict['train_accuracy'] = ( model.cv_results_['mean_train_Accuracy']).mean()\n",
    "    model_eval_dict['test_accuracy'] = ( model.cv_results_['mean_test_Accuracy']).mean()\n",
    "    model_eval_dict['AUC_train'] = ( model.cv_results_['mean_train_AUC']).mean()\n",
    "    model_eval_dict['AUC_test'] = ( model.cv_results_['mean_test_AUC']).mean()\n",
    "    model_eval_dict['train_f1'] = ( model.cv_results_['mean_train_F1']).mean()\n",
    "    model_eval_dict['test_f1'] = ( model.cv_results_['mean_test_F1']).mean()\n",
    "    model_eval_dict['train_recall'] = ( model.cv_results_['mean_train_Recall']).mean()\n",
    "    model_eval_dict['test_recall'] = ( model.cv_results_['mean_test_Recall']).mean()\n",
    "    model_eval_dict['train_precision'] = ( model.cv_results_['mean_train_Precision']).mean()\n",
    "    model_eval_dict['test_precision'] = ( model.cv_results_['mean_test_Precision']).mean()\n",
    "    model_eval_dict['best_params'] = model.best_params_ \n",
    "    for k,v in model_eval_dict.items():\n",
    "        print(f\"{k}: {v}\") \n",
    "    model_compare[clf] = model_eval_dict\n",
    "    return model_compare\n"
   ]
  },
  {
   "cell_type": "code",
   "execution_count": 103,
   "metadata": {
    "ExecuteTime": {
     "end_time": "2021-12-09T18:35:57.379064Z",
     "start_time": "2021-12-09T18:35:55.915248Z"
    }
   },
   "outputs": [
    {
     "name": "stdout",
     "output_type": "stream",
     "text": [
      "train_accuracy: 0.7571375102358573\n",
      "test_accuracy: 0.7524841033428948\n",
      "AUC_train: 0.8526036505331329\n",
      "AUC_test: 0.8497056605838738\n",
      "train_f1: 0.630625423469169\n",
      "test_f1: 0.6261983764071865\n",
      "train_recall: 0.7980093676814988\n",
      "test_recall: 0.7985948477751756\n",
      "train_precision: 0.5213006249883836\n",
      "test_precision: 0.5153104707767483\n",
      "best_params: {'C': 1, 'penalty': 'l2'}\n"
     ]
    }
   ],
   "source": [
    "logr_grid_file = 'files/log_r_grid.pk1'\n",
    "if 'log_r_grid.pk1' in os.listdir('files'):\n",
    "    log_r_grid = joblib.load(logr_grid_file) \n",
    "else:\n",
    "    log_r_grid = tune_model('log_r',\n",
    "                            clf_dict,\n",
    "                            hyperparameter_dict,\n",
    "                            scoring,\n",
    "                            X_train_processed_df,\n",
    "                            y_train)\n",
    "    joblib.dump(log_r_grid,logr_grid_file) \n",
    "log_r_score = score_model(log_r_grid, 'log_r')"
   ]
  },
  {
   "cell_type": "code",
   "execution_count": 104,
   "metadata": {
    "ExecuteTime": {
     "end_time": "2021-12-09T18:37:16.929250Z",
     "start_time": "2021-12-09T18:37:07.531357Z"
    }
   },
   "outputs": [
    {
     "name": "stdout",
     "output_type": "stream",
     "text": [
      "train_accuracy: 0.7022772579636003\n",
      "test_accuracy: 0.674688525151227\n",
      "AUC_train: 0.882431131350148\n",
      "AUC_test: 0.8006848140551744\n",
      "train_f1: 0.44700030997301116\n",
      "test_f1: 0.38581918638006796\n",
      "train_recall: 0.6122170179547229\n",
      "test_recall: 0.5384465261514441\n",
      "train_precision: 0.3827631457495058\n",
      "test_precision: 0.33691597969009396\n",
      "best_params: {'C': 0.1, 'gamma': 0.001}\n"
     ]
    }
   ],
   "source": [
    "svc_grid_file = 'files/svc_grid.pk1'\n",
    "if 'svc_grid.pk1' in os.listdir('files'):\n",
    "    svc_grid = joblib.load(svc_grid_file) \n",
    "else:\n",
    "    svc_grid = tune_model('svc',\n",
    "                            clf_dict,\n",
    "                            hyperparameter_dict,\n",
    "                            scoring,\n",
    "                            X_train_processed_df,\n",
    "                            y_train)\n",
    "    joblib.dump(svc_grid,svc_grid_file) \n",
    "svc_score = score_model(svc_grid, 'svc')"
   ]
  },
  {
   "cell_type": "code",
   "execution_count": 105,
   "metadata": {
    "ExecuteTime": {
     "end_time": "2021-12-09T18:40:53.028489Z",
     "start_time": "2021-12-09T18:38:16.842039Z"
    }
   },
   "outputs": [
    {
     "name": "stdout",
     "output_type": "stream",
     "text": [
      "train_accuracy: 0.9158667566747197\n",
      "test_accuracy: 0.7656427863020852\n",
      "AUC_train: 0.9711742124069217\n",
      "AUC_test: 0.8307866132270132\n",
      "train_f1: 0.8651709793047637\n",
      "test_f1: 0.5990615266501607\n",
      "train_recall: 0.9648201154576383\n",
      "test_recall: 0.6778442767513806\n",
      "train_precision: 0.7919093990189443\n",
      "test_precision: 0.5412425283005924\n",
      "best_params: {'colsample_bytree': 1.0, 'gamma': 5, 'max_depth': 3, 'min_child_weight': 1, 'subsample': 1.0}\n"
     ]
    }
   ],
   "source": [
    "xgb_grid_file = 'files/xgb_grid.pk1'\n",
    "if 'xgb_grid.pk1' in os.listdir('files'):\n",
    "    xgb_grid = joblib.load(xgb_grid_file) \n",
    "else:\n",
    "    xgb_grid = tune_model('xgb',\n",
    "                            clf_dict,\n",
    "                            hyperparameter_dict,\n",
    "                            scoring,\n",
    "                            X_train_processed_df,\n",
    "                            y_train)\n",
    "    joblib.dump(xgb_grid,xgb_grid_file) \n",
    "xgb_score = score_model(xgb_grid, 'xgb')"
   ]
  },
  {
   "cell_type": "code",
   "execution_count": null,
   "metadata": {},
   "outputs": [],
   "source": []
  }
 ],
 "metadata": {
  "kernelspec": {
   "display_name": "Python (learn-env)",
   "language": "python",
   "name": "learn-env"
  },
  "language_info": {
   "codemirror_mode": {
    "name": "ipython",
    "version": 3
   },
   "file_extension": ".py",
   "mimetype": "text/x-python",
   "name": "python",
   "nbconvert_exporter": "python",
   "pygments_lexer": "ipython3",
   "version": "3.8.5"
  },
  "toc": {
   "base_numbering": 1,
   "nav_menu": {},
   "number_sections": true,
   "sideBar": true,
   "skip_h1_title": false,
   "title_cell": "Table of Contents",
   "title_sidebar": "Contents",
   "toc_cell": false,
   "toc_position": {},
   "toc_section_display": true,
   "toc_window_display": true
  }
 },
 "nbformat": 4,
 "nbformat_minor": 4
}
